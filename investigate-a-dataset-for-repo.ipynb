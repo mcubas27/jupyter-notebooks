{
 "cells": [
  {
   "cell_type": "markdown",
   "metadata": {},
   "source": [
    "\n",
    "# Project: Investigate FBI Gun Data & Census Data (2016)\n",
    "\n",
    "## Table of Contents\n",
    "<ul>\n",
    "<li><a href=\"#intro\">Introduction</a></li>\n",
    "<li><a href=\"#wrangling\">Data Wrangling</a></li>\n",
    "<li><a href=\"#eda\">Exploratory Data Analysis</a></li>\n",
    "<li><a href=\"#conclusions\">Conclusions</a></li>\n",
    "</ul>"
   ]
  },
  {
   "cell_type": "markdown",
   "metadata": {},
   "source": [
    "<a id='intro'></a>\n",
    "## Gun Data Analysis \n",
    "\n",
    "**It is a known fact that gun data is very scarse and not of high quality, due to being under funded by the government. This data exploration project will attempt to demonstrate different patterns within the variables in order to gain insights, and answer the question presented below.**\n",
    "- Do states with higher rates of median household income have a higher rate of permits issued?\n",
    "- Do states with higher rates of foreigners have a higher rate of permits issued?\n",
    "- Do states with higher rates of foreigners and higher median household incomes, have a higher amount of permits issued?\n",
    "- Do states with higher median household incomes, have a higher amount of handguns and long guns? "
   ]
  },
  {
   "cell_type": "markdown",
   "metadata": {},
   "source": [
    "<a id='wrangling'></a>\n",
    "## Data Wrangling\n",
    "\n",
    "> I will begin by importing the necessary packages as specified below, and will comment the cells as I continue the data cleaning process to explain the steps taken.\n",
    "\n",
    ">The information is stored in \"US_census_data.csv\" and \"gun_data.xlsx\".\n",
    "[Click here for data](https://www.google.com/url?q=https://d17h27t6h515a5.cloudfront.net/topher/2017/November/5a0a5623_ncis-and-census-data/ncis-and-census-data.zip&sa=D&ust=1527826261101000)\n",
    "\n",
    "\n",
    "### General Properties"
   ]
  },
  {
   "cell_type": "code",
   "execution_count": 1,
   "metadata": {},
   "outputs": [],
   "source": [
    "import pandas as pd\n",
    "import numpy as np \n",
    "import matplotlib.pyplot as plt\n",
    "% matplotlib inline \n",
    "import seaborn as sns"
   ]
  },
  {
   "cell_type": "code",
   "execution_count": 2,
   "metadata": {},
   "outputs": [
    {
     "data": {
      "text/html": [
       "<div>\n",
       "<style>\n",
       "    .dataframe thead tr:only-child th {\n",
       "        text-align: right;\n",
       "    }\n",
       "\n",
       "    .dataframe thead th {\n",
       "        text-align: left;\n",
       "    }\n",
       "\n",
       "    .dataframe tbody tr th {\n",
       "        vertical-align: top;\n",
       "    }\n",
       "</style>\n",
       "<table border=\"1\" class=\"dataframe\">\n",
       "  <thead>\n",
       "    <tr style=\"text-align: right;\">\n",
       "      <th></th>\n",
       "      <th>Fact</th>\n",
       "      <th>Fact Note</th>\n",
       "      <th>Alabama</th>\n",
       "      <th>Alaska</th>\n",
       "      <th>Arizona</th>\n",
       "      <th>Arkansas</th>\n",
       "      <th>California</th>\n",
       "      <th>Colorado</th>\n",
       "      <th>Connecticut</th>\n",
       "      <th>Delaware</th>\n",
       "      <th>...</th>\n",
       "      <th>South Dakota</th>\n",
       "      <th>Tennessee</th>\n",
       "      <th>Texas</th>\n",
       "      <th>Utah</th>\n",
       "      <th>Vermont</th>\n",
       "      <th>Virginia</th>\n",
       "      <th>Washington</th>\n",
       "      <th>West Virginia</th>\n",
       "      <th>Wisconsin</th>\n",
       "      <th>Wyoming</th>\n",
       "    </tr>\n",
       "  </thead>\n",
       "  <tbody>\n",
       "    <tr>\n",
       "      <th>0</th>\n",
       "      <td>Population estimates, July 1, 2016,  (V2016)</td>\n",
       "      <td>NaN</td>\n",
       "      <td>4,863,300</td>\n",
       "      <td>741,894</td>\n",
       "      <td>6,931,071</td>\n",
       "      <td>2,988,248</td>\n",
       "      <td>39,250,017</td>\n",
       "      <td>5,540,545</td>\n",
       "      <td>3,576,452</td>\n",
       "      <td>952,065</td>\n",
       "      <td>...</td>\n",
       "      <td>865454</td>\n",
       "      <td>6651194</td>\n",
       "      <td>27,862,596</td>\n",
       "      <td>3,051,217</td>\n",
       "      <td>624,594</td>\n",
       "      <td>8,411,808</td>\n",
       "      <td>7,288,000</td>\n",
       "      <td>1,831,102</td>\n",
       "      <td>5,778,708</td>\n",
       "      <td>585,501</td>\n",
       "    </tr>\n",
       "    <tr>\n",
       "      <th>1</th>\n",
       "      <td>Population estimates base, April 1, 2010,  (V2...</td>\n",
       "      <td>NaN</td>\n",
       "      <td>4,780,131</td>\n",
       "      <td>710,249</td>\n",
       "      <td>6,392,301</td>\n",
       "      <td>2,916,025</td>\n",
       "      <td>37,254,522</td>\n",
       "      <td>5,029,324</td>\n",
       "      <td>3,574,114</td>\n",
       "      <td>897,936</td>\n",
       "      <td>...</td>\n",
       "      <td>814195</td>\n",
       "      <td>6346298</td>\n",
       "      <td>25,146,100</td>\n",
       "      <td>2,763,888</td>\n",
       "      <td>625,741</td>\n",
       "      <td>8,001,041</td>\n",
       "      <td>6,724,545</td>\n",
       "      <td>1,853,011</td>\n",
       "      <td>5,687,289</td>\n",
       "      <td>563,767</td>\n",
       "    </tr>\n",
       "    <tr>\n",
       "      <th>2</th>\n",
       "      <td>Population, percent change - April 1, 2010 (es...</td>\n",
       "      <td>NaN</td>\n",
       "      <td>1.70%</td>\n",
       "      <td>4.50%</td>\n",
       "      <td>8.40%</td>\n",
       "      <td>2.50%</td>\n",
       "      <td>5.40%</td>\n",
       "      <td>10.20%</td>\n",
       "      <td>0.10%</td>\n",
       "      <td>6.00%</td>\n",
       "      <td>...</td>\n",
       "      <td>0.063</td>\n",
       "      <td>0.048</td>\n",
       "      <td>10.80%</td>\n",
       "      <td>10.40%</td>\n",
       "      <td>-0.20%</td>\n",
       "      <td>5.10%</td>\n",
       "      <td>8.40%</td>\n",
       "      <td>-1.20%</td>\n",
       "      <td>1.60%</td>\n",
       "      <td>3.90%</td>\n",
       "    </tr>\n",
       "    <tr>\n",
       "      <th>3</th>\n",
       "      <td>Population, Census, April 1, 2010</td>\n",
       "      <td>NaN</td>\n",
       "      <td>4,779,736</td>\n",
       "      <td>710,231</td>\n",
       "      <td>6,392,017</td>\n",
       "      <td>2,915,918</td>\n",
       "      <td>37,253,956</td>\n",
       "      <td>5,029,196</td>\n",
       "      <td>3,574,097</td>\n",
       "      <td>897,934</td>\n",
       "      <td>...</td>\n",
       "      <td>814180</td>\n",
       "      <td>6346105</td>\n",
       "      <td>25,145,561</td>\n",
       "      <td>2,763,885</td>\n",
       "      <td>625,741</td>\n",
       "      <td>8,001,024</td>\n",
       "      <td>6,724,540</td>\n",
       "      <td>1,852,994</td>\n",
       "      <td>5,686,986</td>\n",
       "      <td>563,626</td>\n",
       "    </tr>\n",
       "    <tr>\n",
       "      <th>4</th>\n",
       "      <td>Persons under 5 years, percent, July 1, 2016, ...</td>\n",
       "      <td>NaN</td>\n",
       "      <td>6.00%</td>\n",
       "      <td>7.30%</td>\n",
       "      <td>6.30%</td>\n",
       "      <td>6.40%</td>\n",
       "      <td>6.30%</td>\n",
       "      <td>6.10%</td>\n",
       "      <td>5.20%</td>\n",
       "      <td>5.80%</td>\n",
       "      <td>...</td>\n",
       "      <td>0.071</td>\n",
       "      <td>0.061</td>\n",
       "      <td>7.20%</td>\n",
       "      <td>8.30%</td>\n",
       "      <td>4.90%</td>\n",
       "      <td>6.10%</td>\n",
       "      <td>6.20%</td>\n",
       "      <td>5.50%</td>\n",
       "      <td>5.80%</td>\n",
       "      <td>6.50%</td>\n",
       "    </tr>\n",
       "  </tbody>\n",
       "</table>\n",
       "<p>5 rows × 52 columns</p>\n",
       "</div>"
      ],
      "text/plain": [
       "                                                Fact Fact Note    Alabama  \\\n",
       "0       Population estimates, July 1, 2016,  (V2016)       NaN  4,863,300   \n",
       "1  Population estimates base, April 1, 2010,  (V2...       NaN  4,780,131   \n",
       "2  Population, percent change - April 1, 2010 (es...       NaN      1.70%   \n",
       "3                  Population, Census, April 1, 2010       NaN  4,779,736   \n",
       "4  Persons under 5 years, percent, July 1, 2016, ...       NaN      6.00%   \n",
       "\n",
       "    Alaska    Arizona   Arkansas  California   Colorado Connecticut Delaware  \\\n",
       "0  741,894  6,931,071  2,988,248  39,250,017  5,540,545   3,576,452  952,065   \n",
       "1  710,249  6,392,301  2,916,025  37,254,522  5,029,324   3,574,114  897,936   \n",
       "2    4.50%      8.40%      2.50%       5.40%     10.20%       0.10%    6.00%   \n",
       "3  710,231  6,392,017  2,915,918  37,253,956  5,029,196   3,574,097  897,934   \n",
       "4    7.30%      6.30%      6.40%       6.30%      6.10%       5.20%    5.80%   \n",
       "\n",
       "    ...    South Dakota Tennessee       Texas       Utah  Vermont   Virginia  \\\n",
       "0   ...          865454   6651194  27,862,596  3,051,217  624,594  8,411,808   \n",
       "1   ...          814195   6346298  25,146,100  2,763,888  625,741  8,001,041   \n",
       "2   ...           0.063     0.048      10.80%     10.40%   -0.20%      5.10%   \n",
       "3   ...          814180   6346105  25,145,561  2,763,885  625,741  8,001,024   \n",
       "4   ...           0.071     0.061       7.20%      8.30%    4.90%      6.10%   \n",
       "\n",
       "  Washington West Virginia  Wisconsin  Wyoming  \n",
       "0  7,288,000     1,831,102  5,778,708  585,501  \n",
       "1  6,724,545     1,853,011  5,687,289  563,767  \n",
       "2      8.40%        -1.20%      1.60%    3.90%  \n",
       "3  6,724,540     1,852,994  5,686,986  563,626  \n",
       "4      6.20%         5.50%      5.80%    6.50%  \n",
       "\n",
       "[5 rows x 52 columns]"
      ]
     },
     "execution_count": 2,
     "metadata": {},
     "output_type": "execute_result"
    }
   ],
   "source": [
    "df_census_data = pd.read_csv('US_census_data.csv')\n",
    "df_census_data.head()"
   ]
  },
  {
   "cell_type": "code",
   "execution_count": 3,
   "metadata": {},
   "outputs": [],
   "source": [
    "df_census_data.drop(['Fact Note'],1, inplace=True) #dropping the Fact Note column because its mostly null values, inplace=True is to perform and save changes."
   ]
  },
  {
   "cell_type": "code",
   "execution_count": 4,
   "metadata": {},
   "outputs": [],
   "source": [
    "df_census_data.dropna(inplace=True) #Here I'm dropping all the rows that have nulls as they offer no usable data, and represent just one data point per state."
   ]
  },
  {
   "cell_type": "code",
   "execution_count": 5,
   "metadata": {},
   "outputs": [
    {
     "data": {
      "text/plain": [
       "array(['Population estimates, July 1, 2016,  (V2016)',\n",
       "       'Population estimates base, April 1, 2010,  (V2016)',\n",
       "       'Population, percent change - April 1, 2010 (estimates base) to July 1, 2016,  (V2016)',\n",
       "       'Population, Census, April 1, 2010',\n",
       "       'Persons under 5 years, percent, July 1, 2016,  (V2016)',\n",
       "       'Persons under 5 years, percent, April 1, 2010',\n",
       "       'Persons under 18 years, percent, July 1, 2016,  (V2016)',\n",
       "       'Persons under 18 years, percent, April 1, 2010',\n",
       "       'Persons 65 years and over, percent,  July 1, 2016,  (V2016)',\n",
       "       'Persons 65 years and over, percent, April 1, 2010',\n",
       "       'Female persons, percent,  July 1, 2016,  (V2016)',\n",
       "       'Female persons, percent, April 1, 2010',\n",
       "       'White alone, percent, July 1, 2016,  (V2016)',\n",
       "       'Black or African American alone, percent, July 1, 2016,  (V2016)',\n",
       "       'American Indian and Alaska Native alone, percent, July 1, 2016,  (V2016)',\n",
       "       'Asian alone, percent, July 1, 2016,  (V2016)',\n",
       "       'Native Hawaiian and Other Pacific Islander alone, percent, July 1, 2016,  (V2016)',\n",
       "       'Two or More Races, percent, July 1, 2016,  (V2016)',\n",
       "       'Hispanic or Latino, percent, July 1, 2016,  (V2016)',\n",
       "       'White alone, not Hispanic or Latino, percent, July 1, 2016,  (V2016)',\n",
       "       'Veterans, 2011-2015', 'Foreign born persons, percent, 2011-2015',\n",
       "       'Housing units,  July 1, 2016,  (V2016)',\n",
       "       'Housing units, April 1, 2010',\n",
       "       'Owner-occupied housing unit rate, 2011-2015',\n",
       "       'Median value of owner-occupied housing units, 2011-2015',\n",
       "       'Median selected monthly owner costs -with a mortgage, 2011-2015',\n",
       "       'Median selected monthly owner costs -without a mortgage, 2011-2015',\n",
       "       'Median gross rent, 2011-2015', 'Building permits, 2016',\n",
       "       'Households, 2011-2015', 'Persons per household, 2011-2015',\n",
       "       'Living in same house 1 year ago, percent of persons age 1 year+, 2011-2015',\n",
       "       'Language other than English spoken at home, percent of persons age 5 years+, 2011-2015',\n",
       "       'High school graduate or higher, percent of persons age 25 years+, 2011-2015',\n",
       "       \"Bachelor's degree or higher, percent of persons age 25 years+, 2011-2015\",\n",
       "       'With a disability, under age 65 years, percent, 2011-2015',\n",
       "       'Persons  without health insurance, under age 65 years, percent',\n",
       "       'In civilian labor force, total, percent of population age 16 years+, 2011-2015',\n",
       "       'In civilian labor force, female, percent of population age 16 years+, 2011-2015',\n",
       "       'Total accommodation and food services sales, 2012 ($1,000)',\n",
       "       'Total health care and social assistance receipts/revenue, 2012 ($1,000)',\n",
       "       'Total manufacturers shipments, 2012 ($1,000)',\n",
       "       'Total merchant wholesaler sales, 2012 ($1,000)',\n",
       "       'Total retail sales, 2012 ($1,000)',\n",
       "       'Total retail sales per capita, 2012',\n",
       "       'Mean travel time to work (minutes), workers age 16 years+, 2011-2015',\n",
       "       'Median household income (in 2015 dollars), 2011-2015',\n",
       "       'Per capita income in past 12 months (in 2015 dollars), 2011-2015',\n",
       "       'Persons in poverty, percent',\n",
       "       'Total employer establishments, 2015', 'Total employment, 2015',\n",
       "       'Total annual payroll, 2015 ($1,000)',\n",
       "       'Total employment, percent change, 2014-2015',\n",
       "       'Total nonemployer establishments, 2015', 'All firms, 2012',\n",
       "       'Men-owned firms, 2012', 'Women-owned firms, 2012',\n",
       "       'Minority-owned firms, 2012', 'Nonminority-owned firms, 2012',\n",
       "       'Veteran-owned firms, 2012', 'Nonveteran-owned firms, 2012',\n",
       "       'Population per square mile, 2010',\n",
       "       'Land area in square miles, 2010', 'FIPS Code'], dtype=object)"
      ]
     },
     "execution_count": 5,
     "metadata": {},
     "output_type": "execute_result"
    }
   ],
   "source": [
    "np.array(df_census_data['Fact']) #to locate the names of the rows I'd like to keep."
   ]
  },
  {
   "cell_type": "code",
   "execution_count": 6,
   "metadata": {},
   "outputs": [
    {
     "data": {
      "text/html": [
       "<div>\n",
       "<style>\n",
       "    .dataframe thead tr:only-child th {\n",
       "        text-align: right;\n",
       "    }\n",
       "\n",
       "    .dataframe thead th {\n",
       "        text-align: left;\n",
       "    }\n",
       "\n",
       "    .dataframe tbody tr th {\n",
       "        vertical-align: top;\n",
       "    }\n",
       "</style>\n",
       "<table border=\"1\" class=\"dataframe\">\n",
       "  <thead>\n",
       "    <tr style=\"text-align: right;\">\n",
       "      <th></th>\n",
       "      <th>Fact</th>\n",
       "      <th>Alabama</th>\n",
       "      <th>Alaska</th>\n",
       "      <th>Arizona</th>\n",
       "      <th>Arkansas</th>\n",
       "      <th>California</th>\n",
       "      <th>Colorado</th>\n",
       "      <th>Connecticut</th>\n",
       "      <th>Delaware</th>\n",
       "      <th>Florida</th>\n",
       "      <th>...</th>\n",
       "      <th>South Dakota</th>\n",
       "      <th>Tennessee</th>\n",
       "      <th>Texas</th>\n",
       "      <th>Utah</th>\n",
       "      <th>Vermont</th>\n",
       "      <th>Virginia</th>\n",
       "      <th>Washington</th>\n",
       "      <th>West Virginia</th>\n",
       "      <th>Wisconsin</th>\n",
       "      <th>Wyoming</th>\n",
       "    </tr>\n",
       "  </thead>\n",
       "  <tbody>\n",
       "    <tr>\n",
       "      <th>0</th>\n",
       "      <td>Population estimates, July 1, 2016,  (V2016)</td>\n",
       "      <td>4,863,300</td>\n",
       "      <td>741,894</td>\n",
       "      <td>6,931,071</td>\n",
       "      <td>2,988,248</td>\n",
       "      <td>39,250,017</td>\n",
       "      <td>5,540,545</td>\n",
       "      <td>3,576,452</td>\n",
       "      <td>952,065</td>\n",
       "      <td>20,612,439</td>\n",
       "      <td>...</td>\n",
       "      <td>865454</td>\n",
       "      <td>6651194</td>\n",
       "      <td>27,862,596</td>\n",
       "      <td>3,051,217</td>\n",
       "      <td>624,594</td>\n",
       "      <td>8,411,808</td>\n",
       "      <td>7,288,000</td>\n",
       "      <td>1,831,102</td>\n",
       "      <td>5,778,708</td>\n",
       "      <td>585,501</td>\n",
       "    </tr>\n",
       "    <tr>\n",
       "      <th>1</th>\n",
       "      <td>Population estimates base, April 1, 2010,  (V2...</td>\n",
       "      <td>4,780,131</td>\n",
       "      <td>710,249</td>\n",
       "      <td>6,392,301</td>\n",
       "      <td>2,916,025</td>\n",
       "      <td>37,254,522</td>\n",
       "      <td>5,029,324</td>\n",
       "      <td>3,574,114</td>\n",
       "      <td>897,936</td>\n",
       "      <td>18,804,592</td>\n",
       "      <td>...</td>\n",
       "      <td>814195</td>\n",
       "      <td>6346298</td>\n",
       "      <td>25,146,100</td>\n",
       "      <td>2,763,888</td>\n",
       "      <td>625,741</td>\n",
       "      <td>8,001,041</td>\n",
       "      <td>6,724,545</td>\n",
       "      <td>1,853,011</td>\n",
       "      <td>5,687,289</td>\n",
       "      <td>563,767</td>\n",
       "    </tr>\n",
       "    <tr>\n",
       "      <th>2</th>\n",
       "      <td>Population, percent change - April 1, 2010 (es...</td>\n",
       "      <td>1.70%</td>\n",
       "      <td>4.50%</td>\n",
       "      <td>8.40%</td>\n",
       "      <td>2.50%</td>\n",
       "      <td>5.40%</td>\n",
       "      <td>10.20%</td>\n",
       "      <td>0.10%</td>\n",
       "      <td>6.00%</td>\n",
       "      <td>9.60%</td>\n",
       "      <td>...</td>\n",
       "      <td>0.063</td>\n",
       "      <td>0.048</td>\n",
       "      <td>10.80%</td>\n",
       "      <td>10.40%</td>\n",
       "      <td>-0.20%</td>\n",
       "      <td>5.10%</td>\n",
       "      <td>8.40%</td>\n",
       "      <td>-1.20%</td>\n",
       "      <td>1.60%</td>\n",
       "      <td>3.90%</td>\n",
       "    </tr>\n",
       "    <tr>\n",
       "      <th>3</th>\n",
       "      <td>Population, Census, April 1, 2010</td>\n",
       "      <td>4,779,736</td>\n",
       "      <td>710,231</td>\n",
       "      <td>6,392,017</td>\n",
       "      <td>2,915,918</td>\n",
       "      <td>37,253,956</td>\n",
       "      <td>5,029,196</td>\n",
       "      <td>3,574,097</td>\n",
       "      <td>897,934</td>\n",
       "      <td>18,801,310</td>\n",
       "      <td>...</td>\n",
       "      <td>814180</td>\n",
       "      <td>6346105</td>\n",
       "      <td>25,145,561</td>\n",
       "      <td>2,763,885</td>\n",
       "      <td>625,741</td>\n",
       "      <td>8,001,024</td>\n",
       "      <td>6,724,540</td>\n",
       "      <td>1,852,994</td>\n",
       "      <td>5,686,986</td>\n",
       "      <td>563,626</td>\n",
       "    </tr>\n",
       "    <tr>\n",
       "      <th>4</th>\n",
       "      <td>Persons under 5 years, percent, July 1, 2016, ...</td>\n",
       "      <td>6.00%</td>\n",
       "      <td>7.30%</td>\n",
       "      <td>6.30%</td>\n",
       "      <td>6.40%</td>\n",
       "      <td>6.30%</td>\n",
       "      <td>6.10%</td>\n",
       "      <td>5.20%</td>\n",
       "      <td>5.80%</td>\n",
       "      <td>5.50%</td>\n",
       "      <td>...</td>\n",
       "      <td>0.071</td>\n",
       "      <td>0.061</td>\n",
       "      <td>7.20%</td>\n",
       "      <td>8.30%</td>\n",
       "      <td>4.90%</td>\n",
       "      <td>6.10%</td>\n",
       "      <td>6.20%</td>\n",
       "      <td>5.50%</td>\n",
       "      <td>5.80%</td>\n",
       "      <td>6.50%</td>\n",
       "    </tr>\n",
       "  </tbody>\n",
       "</table>\n",
       "<p>5 rows × 51 columns</p>\n",
       "</div>"
      ],
      "text/plain": [
       "                                                Fact    Alabama   Alaska  \\\n",
       "0       Population estimates, July 1, 2016,  (V2016)  4,863,300  741,894   \n",
       "1  Population estimates base, April 1, 2010,  (V2...  4,780,131  710,249   \n",
       "2  Population, percent change - April 1, 2010 (es...      1.70%    4.50%   \n",
       "3                  Population, Census, April 1, 2010  4,779,736  710,231   \n",
       "4  Persons under 5 years, percent, July 1, 2016, ...      6.00%    7.30%   \n",
       "\n",
       "     Arizona   Arkansas  California   Colorado Connecticut Delaware  \\\n",
       "0  6,931,071  2,988,248  39,250,017  5,540,545   3,576,452  952,065   \n",
       "1  6,392,301  2,916,025  37,254,522  5,029,324   3,574,114  897,936   \n",
       "2      8.40%      2.50%       5.40%     10.20%       0.10%    6.00%   \n",
       "3  6,392,017  2,915,918  37,253,956  5,029,196   3,574,097  897,934   \n",
       "4      6.30%      6.40%       6.30%      6.10%       5.20%    5.80%   \n",
       "\n",
       "      Florida   ...    South Dakota Tennessee       Texas       Utah  Vermont  \\\n",
       "0  20,612,439   ...          865454   6651194  27,862,596  3,051,217  624,594   \n",
       "1  18,804,592   ...          814195   6346298  25,146,100  2,763,888  625,741   \n",
       "2       9.60%   ...           0.063     0.048      10.80%     10.40%   -0.20%   \n",
       "3  18,801,310   ...          814180   6346105  25,145,561  2,763,885  625,741   \n",
       "4       5.50%   ...           0.071     0.061       7.20%      8.30%    4.90%   \n",
       "\n",
       "    Virginia Washington West Virginia  Wisconsin  Wyoming  \n",
       "0  8,411,808  7,288,000     1,831,102  5,778,708  585,501  \n",
       "1  8,001,041  6,724,545     1,853,011  5,687,289  563,767  \n",
       "2      5.10%      8.40%        -1.20%      1.60%    3.90%  \n",
       "3  8,001,024  6,724,540     1,852,994  5,686,986  563,626  \n",
       "4      6.10%      6.20%         5.50%      5.80%    6.50%  \n",
       "\n",
       "[5 rows x 51 columns]"
      ]
     },
     "execution_count": 6,
     "metadata": {},
     "output_type": "execute_result"
    }
   ],
   "source": [
    "df_census_data.head() #to check that everything is working as expected"
   ]
  },
  {
   "cell_type": "code",
   "execution_count": 7,
   "metadata": {},
   "outputs": [],
   "source": [
    "#The only rows I would like to keep are the foreign born, median household income and population estimates rows which will become my columns.\n",
    "df_1 = df_census_data.query('Fact == \"Median household income (in 2015 dollars), 2011-2015\" | Fact == \"Foreign born persons, percent, 2011-2015\" | Fact == \"Population estimates, July 1, 2016,  (V2016)\"')\n"
   ]
  },
  {
   "cell_type": "code",
   "execution_count": 8,
   "metadata": {},
   "outputs": [],
   "source": [
    "###I'm reassigning the original variable for easier handling goin forward as well as transposing the rows with the columns.\n",
    "df_1.set_index('Fact',inplace=True)\n",
    "df_1 = df_1.T"
   ]
  },
  {
   "cell_type": "code",
   "execution_count": 9,
   "metadata": {},
   "outputs": [],
   "source": [
    "df_1 = df_1.reset_index() #reseting the index for dataframe functionality"
   ]
  },
  {
   "cell_type": "code",
   "execution_count": 10,
   "metadata": {},
   "outputs": [
    {
     "data": {
      "text/html": [
       "<div>\n",
       "<style>\n",
       "    .dataframe thead tr:only-child th {\n",
       "        text-align: right;\n",
       "    }\n",
       "\n",
       "    .dataframe thead th {\n",
       "        text-align: left;\n",
       "    }\n",
       "\n",
       "    .dataframe tbody tr th {\n",
       "        vertical-align: top;\n",
       "    }\n",
       "</style>\n",
       "<table border=\"1\" class=\"dataframe\">\n",
       "  <thead>\n",
       "    <tr style=\"text-align: right;\">\n",
       "      <th>Fact</th>\n",
       "      <th>index</th>\n",
       "      <th>Population estimates, July 1, 2016,  (V2016)</th>\n",
       "      <th>Foreign born persons, percent, 2011-2015</th>\n",
       "      <th>Median household income (in 2015 dollars), 2011-2015</th>\n",
       "    </tr>\n",
       "  </thead>\n",
       "  <tbody>\n",
       "    <tr>\n",
       "      <th>0</th>\n",
       "      <td>Alabama</td>\n",
       "      <td>4,863,300</td>\n",
       "      <td>3.50%</td>\n",
       "      <td>$43,623</td>\n",
       "    </tr>\n",
       "    <tr>\n",
       "      <th>1</th>\n",
       "      <td>Alaska</td>\n",
       "      <td>741,894</td>\n",
       "      <td>7.40%</td>\n",
       "      <td>$72,515</td>\n",
       "    </tr>\n",
       "    <tr>\n",
       "      <th>2</th>\n",
       "      <td>Arizona</td>\n",
       "      <td>6,931,071</td>\n",
       "      <td>13.50%</td>\n",
       "      <td>$50,255</td>\n",
       "    </tr>\n",
       "    <tr>\n",
       "      <th>3</th>\n",
       "      <td>Arkansas</td>\n",
       "      <td>2,988,248</td>\n",
       "      <td>4.70%</td>\n",
       "      <td>$41,371</td>\n",
       "    </tr>\n",
       "    <tr>\n",
       "      <th>4</th>\n",
       "      <td>California</td>\n",
       "      <td>39,250,017</td>\n",
       "      <td>27.00%</td>\n",
       "      <td>$61,818</td>\n",
       "    </tr>\n",
       "  </tbody>\n",
       "</table>\n",
       "</div>"
      ],
      "text/plain": [
       "Fact       index Population estimates, July 1, 2016,  (V2016)  \\\n",
       "0        Alabama                                    4,863,300   \n",
       "1         Alaska                                      741,894   \n",
       "2        Arizona                                    6,931,071   \n",
       "3       Arkansas                                    2,988,248   \n",
       "4     California                                   39,250,017   \n",
       "\n",
       "Fact Foreign born persons, percent, 2011-2015  \\\n",
       "0                                       3.50%   \n",
       "1                                       7.40%   \n",
       "2                                      13.50%   \n",
       "3                                       4.70%   \n",
       "4                                      27.00%   \n",
       "\n",
       "Fact Median household income (in 2015 dollars), 2011-2015  \n",
       "0                                              $43,623     \n",
       "1                                              $72,515     \n",
       "2                                              $50,255     \n",
       "3                                              $41,371     \n",
       "4                                              $61,818     "
      ]
     },
     "execution_count": 10,
     "metadata": {},
     "output_type": "execute_result"
    }
   ],
   "source": [
    "df_1.head() #new check to make sure the code is working as expected"
   ]
  },
  {
   "cell_type": "code",
   "execution_count": 11,
   "metadata": {},
   "outputs": [],
   "source": [
    "df_1.columns.name = None #since I set fact to index it shows as the columns name, I want it to be None."
   ]
  },
  {
   "cell_type": "code",
   "execution_count": 12,
   "metadata": {},
   "outputs": [],
   "source": [
    "df_1.columns = ['state', 'population_estimates', 'foreign_born_percent', 'median_household_income'] #renaming the columns for easier data manipulation"
   ]
  },
  {
   "cell_type": "code",
   "execution_count": 13,
   "metadata": {},
   "outputs": [
    {
     "data": {
      "text/html": [
       "<div>\n",
       "<style>\n",
       "    .dataframe thead tr:only-child th {\n",
       "        text-align: right;\n",
       "    }\n",
       "\n",
       "    .dataframe thead th {\n",
       "        text-align: left;\n",
       "    }\n",
       "\n",
       "    .dataframe tbody tr th {\n",
       "        vertical-align: top;\n",
       "    }\n",
       "</style>\n",
       "<table border=\"1\" class=\"dataframe\">\n",
       "  <thead>\n",
       "    <tr style=\"text-align: right;\">\n",
       "      <th></th>\n",
       "      <th>state</th>\n",
       "      <th>population_estimates</th>\n",
       "      <th>foreign_born_percent</th>\n",
       "      <th>median_household_income</th>\n",
       "    </tr>\n",
       "  </thead>\n",
       "  <tbody>\n",
       "    <tr>\n",
       "      <th>0</th>\n",
       "      <td>Alabama</td>\n",
       "      <td>4,863,300</td>\n",
       "      <td>3.50%</td>\n",
       "      <td>$43,623</td>\n",
       "    </tr>\n",
       "    <tr>\n",
       "      <th>1</th>\n",
       "      <td>Alaska</td>\n",
       "      <td>741,894</td>\n",
       "      <td>7.40%</td>\n",
       "      <td>$72,515</td>\n",
       "    </tr>\n",
       "    <tr>\n",
       "      <th>2</th>\n",
       "      <td>Arizona</td>\n",
       "      <td>6,931,071</td>\n",
       "      <td>13.50%</td>\n",
       "      <td>$50,255</td>\n",
       "    </tr>\n",
       "    <tr>\n",
       "      <th>3</th>\n",
       "      <td>Arkansas</td>\n",
       "      <td>2,988,248</td>\n",
       "      <td>4.70%</td>\n",
       "      <td>$41,371</td>\n",
       "    </tr>\n",
       "    <tr>\n",
       "      <th>4</th>\n",
       "      <td>California</td>\n",
       "      <td>39,250,017</td>\n",
       "      <td>27.00%</td>\n",
       "      <td>$61,818</td>\n",
       "    </tr>\n",
       "  </tbody>\n",
       "</table>\n",
       "</div>"
      ],
      "text/plain": [
       "        state population_estimates foreign_born_percent  \\\n",
       "0     Alabama            4,863,300                3.50%   \n",
       "1      Alaska              741,894                7.40%   \n",
       "2     Arizona            6,931,071               13.50%   \n",
       "3    Arkansas            2,988,248                4.70%   \n",
       "4  California           39,250,017               27.00%   \n",
       "\n",
       "  median_household_income  \n",
       "0                $43,623   \n",
       "1                $72,515   \n",
       "2                $50,255   \n",
       "3                $41,371   \n",
       "4                $61,818   "
      ]
     },
     "execution_count": 13,
     "metadata": {},
     "output_type": "execute_result"
    }
   ],
   "source": [
    "df_1.head() # check behavior is as expected"
   ]
  },
  {
   "cell_type": "code",
   "execution_count": 14,
   "metadata": {},
   "outputs": [
    {
     "name": "stdout",
     "output_type": "stream",
     "text": [
      "<class 'pandas.core.frame.DataFrame'>\n",
      "RangeIndex: 50 entries, 0 to 49\n",
      "Data columns (total 4 columns):\n",
      "state                      50 non-null object\n",
      "population_estimates       50 non-null object\n",
      "foreign_born_percent       50 non-null object\n",
      "median_household_income    50 non-null object\n",
      "dtypes: object(4)\n",
      "memory usage: 1.6+ KB\n"
     ]
    }
   ],
   "source": [
    "df_1.info() # this tells me that there are incosistencies within the columns, in the step below I will change all the datatypes to floats for use with arithmetic vectorized operations."
   ]
  },
  {
   "cell_type": "code",
   "execution_count": 15,
   "metadata": {},
   "outputs": [],
   "source": [
    "#I will reassign the columns so I can save the changes made on the left side of the = sign.\n",
    "df_1['population_estimates'] = df_1['population_estimates'].apply(lambda x: x.replace(',', '')).astype('float')\n",
    "df_1['foreign_born_percent'] = df_1['foreign_born_percent'].apply(lambda x: float(x.replace('%', ''))/100 if x[-1] == '%' else float(x))\n",
    "df_1['median_household_income'] = df_1['median_household_income'].apply(lambda x: x.replace('$', '').replace(',', '')).astype('float')"
   ]
  },
  {
   "cell_type": "code",
   "execution_count": 16,
   "metadata": {},
   "outputs": [
    {
     "data": {
      "text/html": [
       "<div>\n",
       "<style>\n",
       "    .dataframe thead tr:only-child th {\n",
       "        text-align: right;\n",
       "    }\n",
       "\n",
       "    .dataframe thead th {\n",
       "        text-align: left;\n",
       "    }\n",
       "\n",
       "    .dataframe tbody tr th {\n",
       "        vertical-align: top;\n",
       "    }\n",
       "</style>\n",
       "<table border=\"1\" class=\"dataframe\">\n",
       "  <thead>\n",
       "    <tr style=\"text-align: right;\">\n",
       "      <th></th>\n",
       "      <th>state</th>\n",
       "      <th>population_estimates</th>\n",
       "      <th>foreign_born_percent</th>\n",
       "      <th>median_household_income</th>\n",
       "    </tr>\n",
       "  </thead>\n",
       "  <tbody>\n",
       "    <tr>\n",
       "      <th>0</th>\n",
       "      <td>Alabama</td>\n",
       "      <td>4863300.0</td>\n",
       "      <td>0.035</td>\n",
       "      <td>43623.0</td>\n",
       "    </tr>\n",
       "    <tr>\n",
       "      <th>1</th>\n",
       "      <td>Alaska</td>\n",
       "      <td>741894.0</td>\n",
       "      <td>0.074</td>\n",
       "      <td>72515.0</td>\n",
       "    </tr>\n",
       "    <tr>\n",
       "      <th>2</th>\n",
       "      <td>Arizona</td>\n",
       "      <td>6931071.0</td>\n",
       "      <td>0.135</td>\n",
       "      <td>50255.0</td>\n",
       "    </tr>\n",
       "    <tr>\n",
       "      <th>3</th>\n",
       "      <td>Arkansas</td>\n",
       "      <td>2988248.0</td>\n",
       "      <td>0.047</td>\n",
       "      <td>41371.0</td>\n",
       "    </tr>\n",
       "    <tr>\n",
       "      <th>4</th>\n",
       "      <td>California</td>\n",
       "      <td>39250017.0</td>\n",
       "      <td>0.270</td>\n",
       "      <td>61818.0</td>\n",
       "    </tr>\n",
       "  </tbody>\n",
       "</table>\n",
       "</div>"
      ],
      "text/plain": [
       "        state  population_estimates  foreign_born_percent  \\\n",
       "0     Alabama             4863300.0                 0.035   \n",
       "1      Alaska              741894.0                 0.074   \n",
       "2     Arizona             6931071.0                 0.135   \n",
       "3    Arkansas             2988248.0                 0.047   \n",
       "4  California            39250017.0                 0.270   \n",
       "\n",
       "   median_household_income  \n",
       "0                  43623.0  \n",
       "1                  72515.0  \n",
       "2                  50255.0  \n",
       "3                  41371.0  \n",
       "4                  61818.0  "
      ]
     },
     "execution_count": 16,
     "metadata": {},
     "output_type": "execute_result"
    }
   ],
   "source": [
    "df_1.head() #data is finally clean, it seems that all the data types have been !!!"
   ]
  },
  {
   "cell_type": "code",
   "execution_count": 17,
   "metadata": {},
   "outputs": [
    {
     "data": {
      "text/html": [
       "<div>\n",
       "<style>\n",
       "    .dataframe thead tr:only-child th {\n",
       "        text-align: right;\n",
       "    }\n",
       "\n",
       "    .dataframe thead th {\n",
       "        text-align: left;\n",
       "    }\n",
       "\n",
       "    .dataframe tbody tr th {\n",
       "        vertical-align: top;\n",
       "    }\n",
       "</style>\n",
       "<table border=\"1\" class=\"dataframe\">\n",
       "  <thead>\n",
       "    <tr style=\"text-align: right;\">\n",
       "      <th></th>\n",
       "      <th>population_estimates</th>\n",
       "      <th>foreign_born_percent</th>\n",
       "      <th>median_household_income</th>\n",
       "    </tr>\n",
       "  </thead>\n",
       "  <tbody>\n",
       "    <tr>\n",
       "      <th>count</th>\n",
       "      <td>5.000000e+01</td>\n",
       "      <td>50.000000</td>\n",
       "      <td>50.000000</td>\n",
       "    </tr>\n",
       "    <tr>\n",
       "      <th>mean</th>\n",
       "      <td>6.448927e+06</td>\n",
       "      <td>0.089620</td>\n",
       "      <td>54311.860000</td>\n",
       "    </tr>\n",
       "    <tr>\n",
       "      <th>std</th>\n",
       "      <td>7.271769e+06</td>\n",
       "      <td>0.060841</td>\n",
       "      <td>8949.529115</td>\n",
       "    </tr>\n",
       "    <tr>\n",
       "      <th>min</th>\n",
       "      <td>5.855010e+05</td>\n",
       "      <td>0.015000</td>\n",
       "      <td>39665.000000</td>\n",
       "    </tr>\n",
       "    <tr>\n",
       "      <th>5%</th>\n",
       "      <td>7.491201e+05</td>\n",
       "      <td>0.026150</td>\n",
       "      <td>42593.400000</td>\n",
       "    </tr>\n",
       "    <tr>\n",
       "      <th>9.5%</th>\n",
       "      <td>9.221842e+05</td>\n",
       "      <td>0.033310</td>\n",
       "      <td>44541.065000</td>\n",
       "    </tr>\n",
       "    <tr>\n",
       "      <th>50%</th>\n",
       "      <td>4.559320e+06</td>\n",
       "      <td>0.067500</td>\n",
       "      <td>52601.000000</td>\n",
       "    </tr>\n",
       "    <tr>\n",
       "      <th>max</th>\n",
       "      <td>3.925002e+07</td>\n",
       "      <td>0.270000</td>\n",
       "      <td>74551.000000</td>\n",
       "    </tr>\n",
       "  </tbody>\n",
       "</table>\n",
       "</div>"
      ],
      "text/plain": [
       "       population_estimates  foreign_born_percent  median_household_income\n",
       "count          5.000000e+01             50.000000                50.000000\n",
       "mean           6.448927e+06              0.089620             54311.860000\n",
       "std            7.271769e+06              0.060841              8949.529115\n",
       "min            5.855010e+05              0.015000             39665.000000\n",
       "5%             7.491201e+05              0.026150             42593.400000\n",
       "9.5%           9.221842e+05              0.033310             44541.065000\n",
       "50%            4.559320e+06              0.067500             52601.000000\n",
       "max            3.925002e+07              0.270000             74551.000000"
      ]
     },
     "execution_count": 17,
     "metadata": {},
     "output_type": "execute_result"
    }
   ],
   "source": [
    "df_1.describe(percentiles=[.05,.095]) #again this tells me that my data is of the same types and im ready to start"
   ]
  },
  {
   "cell_type": "code",
   "execution_count": 18,
   "metadata": {
    "scrolled": true
   },
   "outputs": [
    {
     "data": {
      "image/png": "[encoded data removed]",
      "text/plain": [
       "<matplotlib.figure.Figure at 0x1a0db31320>"
      ]
     },
     "metadata": {},
     "output_type": "display_data"
    }
   ],
   "source": [
    "df_1.hist(figsize=(8,3)); #checking how my variables are distributed"
   ]
  },
  {
   "cell_type": "code",
   "execution_count": 19,
   "metadata": {},
   "outputs": [
    {
     "data": {
      "image/png": "[encoded data removed]",
      "text/plain": [
       "<matplotlib.figure.Figure at 0x1a12c01748>"
      ]
     },
     "metadata": {},
     "output_type": "display_data"
    }
   ],
   "source": [
    "df_1.plot.scatter('median_household_income', 'foreign_born_percent'); #This shows that as the percentage of foreign borns increases the median household income also increases."
   ]
  },
  {
   "cell_type": "code",
   "execution_count": 20,
   "metadata": {},
   "outputs": [
    {
     "data": {
      "image/png": "[encoded data removed]",
      "text/plain": [
       "<matplotlib.figure.Figure at 0x1a15f7c2b0>"
      ]
     },
     "metadata": {},
     "output_type": "display_data"
    }
   ],
   "source": [
    "df_1.plot.bar(y = 'foreign_born_percent', x = 'state', figsize=(15,4)); #this gives us an idea of the percentage of foreign born people per state"
   ]
  },
  {
   "cell_type": "code",
   "execution_count": 21,
   "metadata": {},
   "outputs": [
    {
     "data": {
      "image/png": "[encoded data removed]",
      "text/plain": [
       "<matplotlib.figure.Figure at 0x1a16129a58>"
      ]
     },
     "metadata": {},
     "output_type": "display_data"
    }
   ],
   "source": [
    "df_1.plot.bar(y = 'median_household_income', x = 'state', figsize=(15,4)); #this gives us an idea of the percentage of foreign born people per state"
   ]
  },
  {
   "cell_type": "code",
   "execution_count": 22,
   "metadata": {},
   "outputs": [
    {
     "data": {
      "text/html": [
       "<div>\n",
       "<style>\n",
       "    .dataframe thead tr:only-child th {\n",
       "        text-align: right;\n",
       "    }\n",
       "\n",
       "    .dataframe thead th {\n",
       "        text-align: left;\n",
       "    }\n",
       "\n",
       "    .dataframe tbody tr th {\n",
       "        vertical-align: top;\n",
       "    }\n",
       "</style>\n",
       "<table border=\"1\" class=\"dataframe\">\n",
       "  <thead>\n",
       "    <tr style=\"text-align: right;\">\n",
       "      <th></th>\n",
       "      <th>state</th>\n",
       "      <th>population_estimates</th>\n",
       "      <th>foreign_born_percent</th>\n",
       "      <th>median_household_income</th>\n",
       "    </tr>\n",
       "  </thead>\n",
       "  <tbody>\n",
       "  </tbody>\n",
       "</table>\n",
       "</div>"
      ],
      "text/plain": [
       "Empty DataFrame\n",
       "Columns: [state, population_estimates, foreign_born_percent, median_household_income]\n",
       "Index: []"
      ]
     },
     "execution_count": 22,
     "metadata": {},
     "output_type": "execute_result"
    }
   ],
   "source": [
    "df_1.query('population_estimates == 0')"
   ]
  },
  {
   "cell_type": "code",
   "execution_count": 23,
   "metadata": {},
   "outputs": [],
   "source": [
    "df_gun = pd.read_excel('gun_data.xlsx') #now is time for our second data set"
   ]
  },
  {
   "cell_type": "code",
   "execution_count": 24,
   "metadata": {},
   "outputs": [
    {
     "data": {
      "text/html": [
       "<div>\n",
       "<style>\n",
       "    .dataframe thead tr:only-child th {\n",
       "        text-align: right;\n",
       "    }\n",
       "\n",
       "    .dataframe thead th {\n",
       "        text-align: left;\n",
       "    }\n",
       "\n",
       "    .dataframe tbody tr th {\n",
       "        vertical-align: top;\n",
       "    }\n",
       "</style>\n",
       "<table border=\"1\" class=\"dataframe\">\n",
       "  <thead>\n",
       "    <tr style=\"text-align: right;\">\n",
       "      <th></th>\n",
       "      <th>month</th>\n",
       "      <th>state</th>\n",
       "      <th>permit</th>\n",
       "      <th>permit_recheck</th>\n",
       "      <th>handgun</th>\n",
       "      <th>long_gun</th>\n",
       "      <th>other</th>\n",
       "      <th>multiple</th>\n",
       "      <th>admin</th>\n",
       "      <th>prepawn_handgun</th>\n",
       "      <th>...</th>\n",
       "      <th>returned_other</th>\n",
       "      <th>rentals_handgun</th>\n",
       "      <th>rentals_long_gun</th>\n",
       "      <th>private_sale_handgun</th>\n",
       "      <th>private_sale_long_gun</th>\n",
       "      <th>private_sale_other</th>\n",
       "      <th>return_to_seller_handgun</th>\n",
       "      <th>return_to_seller_long_gun</th>\n",
       "      <th>return_to_seller_other</th>\n",
       "      <th>totals</th>\n",
       "    </tr>\n",
       "  </thead>\n",
       "  <tbody>\n",
       "    <tr>\n",
       "      <th>0</th>\n",
       "      <td>2017-09</td>\n",
       "      <td>Alabama</td>\n",
       "      <td>16717.0</td>\n",
       "      <td>0.0</td>\n",
       "      <td>5734.0</td>\n",
       "      <td>6320.0</td>\n",
       "      <td>221.0</td>\n",
       "      <td>317</td>\n",
       "      <td>0.0</td>\n",
       "      <td>15.0</td>\n",
       "      <td>...</td>\n",
       "      <td>0.0</td>\n",
       "      <td>0.0</td>\n",
       "      <td>0.0</td>\n",
       "      <td>9.0</td>\n",
       "      <td>16.0</td>\n",
       "      <td>3.0</td>\n",
       "      <td>0.0</td>\n",
       "      <td>0.0</td>\n",
       "      <td>3.0</td>\n",
       "      <td>32019</td>\n",
       "    </tr>\n",
       "    <tr>\n",
       "      <th>1</th>\n",
       "      <td>2017-09</td>\n",
       "      <td>Alaska</td>\n",
       "      <td>209.0</td>\n",
       "      <td>2.0</td>\n",
       "      <td>2320.0</td>\n",
       "      <td>2930.0</td>\n",
       "      <td>219.0</td>\n",
       "      <td>160</td>\n",
       "      <td>0.0</td>\n",
       "      <td>5.0</td>\n",
       "      <td>...</td>\n",
       "      <td>0.0</td>\n",
       "      <td>0.0</td>\n",
       "      <td>0.0</td>\n",
       "      <td>17.0</td>\n",
       "      <td>24.0</td>\n",
       "      <td>1.0</td>\n",
       "      <td>0.0</td>\n",
       "      <td>0.0</td>\n",
       "      <td>0.0</td>\n",
       "      <td>6303</td>\n",
       "    </tr>\n",
       "    <tr>\n",
       "      <th>2</th>\n",
       "      <td>2017-09</td>\n",
       "      <td>Arizona</td>\n",
       "      <td>5069.0</td>\n",
       "      <td>382.0</td>\n",
       "      <td>11063.0</td>\n",
       "      <td>7946.0</td>\n",
       "      <td>920.0</td>\n",
       "      <td>631</td>\n",
       "      <td>0.0</td>\n",
       "      <td>13.0</td>\n",
       "      <td>...</td>\n",
       "      <td>0.0</td>\n",
       "      <td>0.0</td>\n",
       "      <td>0.0</td>\n",
       "      <td>38.0</td>\n",
       "      <td>12.0</td>\n",
       "      <td>2.0</td>\n",
       "      <td>0.0</td>\n",
       "      <td>0.0</td>\n",
       "      <td>0.0</td>\n",
       "      <td>28394</td>\n",
       "    </tr>\n",
       "    <tr>\n",
       "      <th>3</th>\n",
       "      <td>2017-09</td>\n",
       "      <td>Arkansas</td>\n",
       "      <td>2935.0</td>\n",
       "      <td>632.0</td>\n",
       "      <td>4347.0</td>\n",
       "      <td>6063.0</td>\n",
       "      <td>165.0</td>\n",
       "      <td>366</td>\n",
       "      <td>51.0</td>\n",
       "      <td>12.0</td>\n",
       "      <td>...</td>\n",
       "      <td>0.0</td>\n",
       "      <td>0.0</td>\n",
       "      <td>0.0</td>\n",
       "      <td>13.0</td>\n",
       "      <td>23.0</td>\n",
       "      <td>0.0</td>\n",
       "      <td>0.0</td>\n",
       "      <td>2.0</td>\n",
       "      <td>1.0</td>\n",
       "      <td>17747</td>\n",
       "    </tr>\n",
       "    <tr>\n",
       "      <th>4</th>\n",
       "      <td>2017-09</td>\n",
       "      <td>California</td>\n",
       "      <td>57839.0</td>\n",
       "      <td>0.0</td>\n",
       "      <td>37165.0</td>\n",
       "      <td>24581.0</td>\n",
       "      <td>2984.0</td>\n",
       "      <td>0</td>\n",
       "      <td>0.0</td>\n",
       "      <td>0.0</td>\n",
       "      <td>...</td>\n",
       "      <td>0.0</td>\n",
       "      <td>0.0</td>\n",
       "      <td>0.0</td>\n",
       "      <td>0.0</td>\n",
       "      <td>0.0</td>\n",
       "      <td>0.0</td>\n",
       "      <td>0.0</td>\n",
       "      <td>0.0</td>\n",
       "      <td>0.0</td>\n",
       "      <td>123506</td>\n",
       "    </tr>\n",
       "  </tbody>\n",
       "</table>\n",
       "<p>5 rows × 27 columns</p>\n",
       "</div>"
      ],
      "text/plain": [
       "     month       state   permit  permit_recheck  handgun  long_gun   other  \\\n",
       "0  2017-09     Alabama  16717.0             0.0   5734.0    6320.0   221.0   \n",
       "1  2017-09      Alaska    209.0             2.0   2320.0    2930.0   219.0   \n",
       "2  2017-09     Arizona   5069.0           382.0  11063.0    7946.0   920.0   \n",
       "3  2017-09    Arkansas   2935.0           632.0   4347.0    6063.0   165.0   \n",
       "4  2017-09  California  57839.0             0.0  37165.0   24581.0  2984.0   \n",
       "\n",
       "   multiple  admin  prepawn_handgun   ...    returned_other  rentals_handgun  \\\n",
       "0       317    0.0             15.0   ...               0.0              0.0   \n",
       "1       160    0.0              5.0   ...               0.0              0.0   \n",
       "2       631    0.0             13.0   ...               0.0              0.0   \n",
       "3       366   51.0             12.0   ...               0.0              0.0   \n",
       "4         0    0.0              0.0   ...               0.0              0.0   \n",
       "\n",
       "   rentals_long_gun  private_sale_handgun  private_sale_long_gun  \\\n",
       "0               0.0                   9.0                   16.0   \n",
       "1               0.0                  17.0                   24.0   \n",
       "2               0.0                  38.0                   12.0   \n",
       "3               0.0                  13.0                   23.0   \n",
       "4               0.0                   0.0                    0.0   \n",
       "\n",
       "   private_sale_other  return_to_seller_handgun  return_to_seller_long_gun  \\\n",
       "0                 3.0                       0.0                        0.0   \n",
       "1                 1.0                       0.0                        0.0   \n",
       "2                 2.0                       0.0                        0.0   \n",
       "3                 0.0                       0.0                        2.0   \n",
       "4                 0.0                       0.0                        0.0   \n",
       "\n",
       "   return_to_seller_other  totals  \n",
       "0                     3.0   32019  \n",
       "1                     0.0    6303  \n",
       "2                     0.0   28394  \n",
       "3                     1.0   17747  \n",
       "4                     0.0  123506  \n",
       "\n",
       "[5 rows x 27 columns]"
      ]
     },
     "execution_count": 24,
     "metadata": {},
     "output_type": "execute_result"
    }
   ],
   "source": [
    "df_2 = df_gun #I'm reassigning the original variable for easier handling goin forward(this is debatable, since gun is a short name, im doing it for consistency)\n",
    "df_2.head()"
   ]
  },
  {
   "cell_type": "code",
   "execution_count": 25,
   "metadata": {},
   "outputs": [
    {
     "data": {
      "text/plain": [
       "(660, 27)"
      ]
     },
     "execution_count": 25,
     "metadata": {},
     "output_type": "execute_result"
    }
   ],
   "source": [
    "df_2[df_2['month'].str.contains('2016')].shape"
   ]
  },
  {
   "cell_type": "code",
   "execution_count": 26,
   "metadata": {},
   "outputs": [],
   "source": [
    "df_2 = df_2[df_2['month'].str.contains('2016')] #Im interested in the 2016 data since the data in the census is from 2016 as well."
   ]
  },
  {
   "cell_type": "code",
   "execution_count": 27,
   "metadata": {
    "scrolled": true
   },
   "outputs": [
    {
     "data": {
      "text/html": [
       "<div>\n",
       "<style>\n",
       "    .dataframe thead tr:only-child th {\n",
       "        text-align: right;\n",
       "    }\n",
       "\n",
       "    .dataframe thead th {\n",
       "        text-align: left;\n",
       "    }\n",
       "\n",
       "    .dataframe tbody tr th {\n",
       "        vertical-align: top;\n",
       "    }\n",
       "</style>\n",
       "<table border=\"1\" class=\"dataframe\">\n",
       "  <thead>\n",
       "    <tr style=\"text-align: right;\">\n",
       "      <th></th>\n",
       "      <th>month</th>\n",
       "      <th>state</th>\n",
       "      <th>permit</th>\n",
       "      <th>permit_recheck</th>\n",
       "      <th>handgun</th>\n",
       "      <th>long_gun</th>\n",
       "      <th>other</th>\n",
       "      <th>multiple</th>\n",
       "      <th>admin</th>\n",
       "      <th>prepawn_handgun</th>\n",
       "      <th>...</th>\n",
       "      <th>returned_other</th>\n",
       "      <th>rentals_handgun</th>\n",
       "      <th>rentals_long_gun</th>\n",
       "      <th>private_sale_handgun</th>\n",
       "      <th>private_sale_long_gun</th>\n",
       "      <th>private_sale_other</th>\n",
       "      <th>return_to_seller_handgun</th>\n",
       "      <th>return_to_seller_long_gun</th>\n",
       "      <th>return_to_seller_other</th>\n",
       "      <th>totals</th>\n",
       "    </tr>\n",
       "  </thead>\n",
       "  <tbody>\n",
       "    <tr>\n",
       "      <th>495</th>\n",
       "      <td>2016-12</td>\n",
       "      <td>Alabama</td>\n",
       "      <td>26996.0</td>\n",
       "      <td>0.0</td>\n",
       "      <td>13733.0</td>\n",
       "      <td>17519.0</td>\n",
       "      <td>376.0</td>\n",
       "      <td>533</td>\n",
       "      <td>0.0</td>\n",
       "      <td>10.0</td>\n",
       "      <td>...</td>\n",
       "      <td>0.0</td>\n",
       "      <td>0.0</td>\n",
       "      <td>0.0</td>\n",
       "      <td>2.0</td>\n",
       "      <td>2.0</td>\n",
       "      <td>1.0</td>\n",
       "      <td>0.0</td>\n",
       "      <td>0.0</td>\n",
       "      <td>0.0</td>\n",
       "      <td>62014</td>\n",
       "    </tr>\n",
       "    <tr>\n",
       "      <th>496</th>\n",
       "      <td>2016-12</td>\n",
       "      <td>Alaska</td>\n",
       "      <td>254.0</td>\n",
       "      <td>0.0</td>\n",
       "      <td>4087.0</td>\n",
       "      <td>3698.0</td>\n",
       "      <td>243.0</td>\n",
       "      <td>191</td>\n",
       "      <td>0.0</td>\n",
       "      <td>3.0</td>\n",
       "      <td>...</td>\n",
       "      <td>0.0</td>\n",
       "      <td>0.0</td>\n",
       "      <td>0.0</td>\n",
       "      <td>0.0</td>\n",
       "      <td>0.0</td>\n",
       "      <td>0.0</td>\n",
       "      <td>0.0</td>\n",
       "      <td>0.0</td>\n",
       "      <td>0.0</td>\n",
       "      <td>8786</td>\n",
       "    </tr>\n",
       "    <tr>\n",
       "      <th>497</th>\n",
       "      <td>2016-12</td>\n",
       "      <td>Arizona</td>\n",
       "      <td>8900.0</td>\n",
       "      <td>121.0</td>\n",
       "      <td>18024.0</td>\n",
       "      <td>13785.0</td>\n",
       "      <td>1180.0</td>\n",
       "      <td>703</td>\n",
       "      <td>0.0</td>\n",
       "      <td>10.0</td>\n",
       "      <td>...</td>\n",
       "      <td>0.0</td>\n",
       "      <td>0.0</td>\n",
       "      <td>0.0</td>\n",
       "      <td>2.0</td>\n",
       "      <td>2.0</td>\n",
       "      <td>0.0</td>\n",
       "      <td>0.0</td>\n",
       "      <td>0.0</td>\n",
       "      <td>0.0</td>\n",
       "      <td>44887</td>\n",
       "    </tr>\n",
       "    <tr>\n",
       "      <th>498</th>\n",
       "      <td>2016-12</td>\n",
       "      <td>Arkansas</td>\n",
       "      <td>3294.0</td>\n",
       "      <td>692.0</td>\n",
       "      <td>9192.0</td>\n",
       "      <td>13433.0</td>\n",
       "      <td>277.0</td>\n",
       "      <td>385</td>\n",
       "      <td>37.0</td>\n",
       "      <td>4.0</td>\n",
       "      <td>...</td>\n",
       "      <td>0.0</td>\n",
       "      <td>0.0</td>\n",
       "      <td>0.0</td>\n",
       "      <td>2.0</td>\n",
       "      <td>7.0</td>\n",
       "      <td>0.0</td>\n",
       "      <td>0.0</td>\n",
       "      <td>0.0</td>\n",
       "      <td>0.0</td>\n",
       "      <td>29926</td>\n",
       "    </tr>\n",
       "    <tr>\n",
       "      <th>499</th>\n",
       "      <td>2016-12</td>\n",
       "      <td>California</td>\n",
       "      <td>61808.0</td>\n",
       "      <td>0.0</td>\n",
       "      <td>63649.0</td>\n",
       "      <td>93224.0</td>\n",
       "      <td>77929.0</td>\n",
       "      <td>0</td>\n",
       "      <td>0.0</td>\n",
       "      <td>0.0</td>\n",
       "      <td>...</td>\n",
       "      <td>0.0</td>\n",
       "      <td>0.0</td>\n",
       "      <td>0.0</td>\n",
       "      <td>0.0</td>\n",
       "      <td>0.0</td>\n",
       "      <td>0.0</td>\n",
       "      <td>0.0</td>\n",
       "      <td>0.0</td>\n",
       "      <td>0.0</td>\n",
       "      <td>298161</td>\n",
       "    </tr>\n",
       "  </tbody>\n",
       "</table>\n",
       "<p>5 rows × 27 columns</p>\n",
       "</div>"
      ],
      "text/plain": [
       "       month       state   permit  permit_recheck  handgun  long_gun    other  \\\n",
       "495  2016-12     Alabama  26996.0             0.0  13733.0   17519.0    376.0   \n",
       "496  2016-12      Alaska    254.0             0.0   4087.0    3698.0    243.0   \n",
       "497  2016-12     Arizona   8900.0           121.0  18024.0   13785.0   1180.0   \n",
       "498  2016-12    Arkansas   3294.0           692.0   9192.0   13433.0    277.0   \n",
       "499  2016-12  California  61808.0             0.0  63649.0   93224.0  77929.0   \n",
       "\n",
       "     multiple  admin  prepawn_handgun   ...    returned_other  \\\n",
       "495       533    0.0             10.0   ...               0.0   \n",
       "496       191    0.0              3.0   ...               0.0   \n",
       "497       703    0.0             10.0   ...               0.0   \n",
       "498       385   37.0              4.0   ...               0.0   \n",
       "499         0    0.0              0.0   ...               0.0   \n",
       "\n",
       "     rentals_handgun  rentals_long_gun  private_sale_handgun  \\\n",
       "495              0.0               0.0                   2.0   \n",
       "496              0.0               0.0                   0.0   \n",
       "497              0.0               0.0                   2.0   \n",
       "498              0.0               0.0                   2.0   \n",
       "499              0.0               0.0                   0.0   \n",
       "\n",
       "     private_sale_long_gun  private_sale_other  return_to_seller_handgun  \\\n",
       "495                    2.0                 1.0                       0.0   \n",
       "496                    0.0                 0.0                       0.0   \n",
       "497                    2.0                 0.0                       0.0   \n",
       "498                    7.0                 0.0                       0.0   \n",
       "499                    0.0                 0.0                       0.0   \n",
       "\n",
       "     return_to_seller_long_gun  return_to_seller_other  totals  \n",
       "495                        0.0                     0.0   62014  \n",
       "496                        0.0                     0.0    8786  \n",
       "497                        0.0                     0.0   44887  \n",
       "498                        0.0                     0.0   29926  \n",
       "499                        0.0                     0.0  298161  \n",
       "\n",
       "[5 rows x 27 columns]"
      ]
     },
     "execution_count": 27,
     "metadata": {},
     "output_type": "execute_result"
    }
   ],
   "source": [
    "df_2.head() #Now I am left with the data for just 2016"
   ]
  },
  {
   "cell_type": "code",
   "execution_count": 28,
   "metadata": {},
   "outputs": [
    {
     "name": "stdout",
     "output_type": "stream",
     "text": [
      "<class 'pandas.core.frame.DataFrame'>\n",
      "Int64Index: 660 entries, 495 to 1154\n",
      "Data columns (total 27 columns):\n",
      "month                        660 non-null object\n",
      "state                        660 non-null object\n",
      "permit                       660 non-null float64\n",
      "permit_recheck               605 non-null float64\n",
      "handgun                      660 non-null float64\n",
      "long_gun                     660 non-null float64\n",
      "other                        660 non-null float64\n",
      "multiple                     660 non-null int64\n",
      "admin                        660 non-null float64\n",
      "prepawn_handgun              660 non-null float64\n",
      "prepawn_long_gun             660 non-null float64\n",
      "prepawn_other                660 non-null float64\n",
      "redemption_handgun           660 non-null float64\n",
      "redemption_long_gun          660 non-null float64\n",
      "redemption_other             660 non-null float64\n",
      "returned_handgun             660 non-null float64\n",
      "returned_long_gun            660 non-null float64\n",
      "returned_other               660 non-null float64\n",
      "rentals_handgun              275 non-null float64\n",
      "rentals_long_gun             275 non-null float64\n",
      "private_sale_handgun         660 non-null float64\n",
      "private_sale_long_gun        660 non-null float64\n",
      "private_sale_other           660 non-null float64\n",
      "return_to_seller_handgun     660 non-null float64\n",
      "return_to_seller_long_gun    660 non-null float64\n",
      "return_to_seller_other       660 non-null float64\n",
      "totals                       660 non-null int64\n",
      "dtypes: float64(23), int64(2), object(2)\n",
      "memory usage: 144.4+ KB\n"
     ]
    }
   ],
   "source": [
    "df_2.info()"
   ]
  },
  {
   "cell_type": "code",
   "execution_count": 29,
   "metadata": {},
   "outputs": [],
   "source": [
    "df_2 = df_2.groupby(['state']).agg({'permit':'mean', 'handgun':'mean', 'long_gun':'mean'}) #used to aggregate the data per state since thats the information we have for the census data"
   ]
  },
  {
   "cell_type": "code",
   "execution_count": 30,
   "metadata": {},
   "outputs": [
    {
     "data": {
      "text/html": [
       "<div>\n",
       "<style>\n",
       "    .dataframe thead tr:only-child th {\n",
       "        text-align: right;\n",
       "    }\n",
       "\n",
       "    .dataframe thead th {\n",
       "        text-align: left;\n",
       "    }\n",
       "\n",
       "    .dataframe tbody tr th {\n",
       "        vertical-align: top;\n",
       "    }\n",
       "</style>\n",
       "<table border=\"1\" class=\"dataframe\">\n",
       "  <thead>\n",
       "    <tr style=\"text-align: right;\">\n",
       "      <th></th>\n",
       "      <th>permit</th>\n",
       "      <th>handgun</th>\n",
       "      <th>long_gun</th>\n",
       "    </tr>\n",
       "    <tr>\n",
       "      <th>state</th>\n",
       "      <th></th>\n",
       "      <th></th>\n",
       "      <th></th>\n",
       "    </tr>\n",
       "  </thead>\n",
       "  <tbody>\n",
       "    <tr>\n",
       "      <th>Alabama</th>\n",
       "      <td>24253.250000</td>\n",
       "      <td>12760.250000</td>\n",
       "      <td>10163.583333</td>\n",
       "    </tr>\n",
       "    <tr>\n",
       "      <th>Alaska</th>\n",
       "      <td>260.083333</td>\n",
       "      <td>3124.250000</td>\n",
       "      <td>3073.916667</td>\n",
       "    </tr>\n",
       "    <tr>\n",
       "      <th>Arizona</th>\n",
       "      <td>7314.250000</td>\n",
       "      <td>13898.666667</td>\n",
       "      <td>9082.333333</td>\n",
       "    </tr>\n",
       "    <tr>\n",
       "      <th>Arkansas</th>\n",
       "      <td>4621.333333</td>\n",
       "      <td>6687.000000</td>\n",
       "      <td>6843.333333</td>\n",
       "    </tr>\n",
       "    <tr>\n",
       "      <th>California</th>\n",
       "      <td>86415.083333</td>\n",
       "      <td>46696.250000</td>\n",
       "      <td>46212.500000</td>\n",
       "    </tr>\n",
       "  </tbody>\n",
       "</table>\n",
       "</div>"
      ],
      "text/plain": [
       "                  permit       handgun      long_gun\n",
       "state                                               \n",
       "Alabama     24253.250000  12760.250000  10163.583333\n",
       "Alaska        260.083333   3124.250000   3073.916667\n",
       "Arizona      7314.250000  13898.666667   9082.333333\n",
       "Arkansas     4621.333333   6687.000000   6843.333333\n",
       "California  86415.083333  46696.250000  46212.500000"
      ]
     },
     "execution_count": 30,
     "metadata": {},
     "output_type": "execute_result"
    }
   ],
   "source": [
    "df_2.head() #I see that my index has become the state names, I would like to assign it an index before I move forward"
   ]
  },
  {
   "cell_type": "code",
   "execution_count": 31,
   "metadata": {},
   "outputs": [],
   "source": [
    "df_2.reset_index(inplace=True) #here im reseting the index, inplace=True which means that the operation will be performed, and it will change the df_2 permanently."
   ]
  },
  {
   "cell_type": "code",
   "execution_count": 32,
   "metadata": {},
   "outputs": [
    {
     "data": {
      "text/html": [
       "<div>\n",
       "<style>\n",
       "    .dataframe thead tr:only-child th {\n",
       "        text-align: right;\n",
       "    }\n",
       "\n",
       "    .dataframe thead th {\n",
       "        text-align: left;\n",
       "    }\n",
       "\n",
       "    .dataframe tbody tr th {\n",
       "        vertical-align: top;\n",
       "    }\n",
       "</style>\n",
       "<table border=\"1\" class=\"dataframe\">\n",
       "  <thead>\n",
       "    <tr style=\"text-align: right;\">\n",
       "      <th></th>\n",
       "      <th>state</th>\n",
       "      <th>permit</th>\n",
       "      <th>handgun</th>\n",
       "      <th>long_gun</th>\n",
       "    </tr>\n",
       "  </thead>\n",
       "  <tbody>\n",
       "    <tr>\n",
       "      <th>0</th>\n",
       "      <td>Alabama</td>\n",
       "      <td>24253.250000</td>\n",
       "      <td>12760.250000</td>\n",
       "      <td>10163.583333</td>\n",
       "    </tr>\n",
       "    <tr>\n",
       "      <th>1</th>\n",
       "      <td>Alaska</td>\n",
       "      <td>260.083333</td>\n",
       "      <td>3124.250000</td>\n",
       "      <td>3073.916667</td>\n",
       "    </tr>\n",
       "    <tr>\n",
       "      <th>2</th>\n",
       "      <td>Arizona</td>\n",
       "      <td>7314.250000</td>\n",
       "      <td>13898.666667</td>\n",
       "      <td>9082.333333</td>\n",
       "    </tr>\n",
       "    <tr>\n",
       "      <th>3</th>\n",
       "      <td>Arkansas</td>\n",
       "      <td>4621.333333</td>\n",
       "      <td>6687.000000</td>\n",
       "      <td>6843.333333</td>\n",
       "    </tr>\n",
       "    <tr>\n",
       "      <th>4</th>\n",
       "      <td>California</td>\n",
       "      <td>86415.083333</td>\n",
       "      <td>46696.250000</td>\n",
       "      <td>46212.500000</td>\n",
       "    </tr>\n",
       "  </tbody>\n",
       "</table>\n",
       "</div>"
      ],
      "text/plain": [
       "        state        permit       handgun      long_gun\n",
       "0     Alabama  24253.250000  12760.250000  10163.583333\n",
       "1      Alaska    260.083333   3124.250000   3073.916667\n",
       "2     Arizona   7314.250000  13898.666667   9082.333333\n",
       "3    Arkansas   4621.333333   6687.000000   6843.333333\n",
       "4  California  86415.083333  46696.250000  46212.500000"
      ]
     },
     "execution_count": 32,
     "metadata": {},
     "output_type": "execute_result"
    }
   ],
   "source": [
    "# lets do a quick check and some data plotting.\n",
    "df_2.head()"
   ]
  },
  {
   "cell_type": "code",
   "execution_count": 33,
   "metadata": {},
   "outputs": [
    {
     "data": {
      "image/png": "[encoded data removed]",
      "text/plain": [
       "<matplotlib.figure.Figure at 0x1a12baf9b0>"
      ]
     },
     "metadata": {},
     "output_type": "display_data"
    }
   ],
   "source": [
    "df_2.hist(figsize=(8,3));"
   ]
  },
  {
   "cell_type": "code",
   "execution_count": 34,
   "metadata": {
    "scrolled": true
   },
   "outputs": [
    {
     "data": {
      "image/png": "[encoded data removed]",
      "text/plain": [
       "<matplotlib.figure.Figure at 0x1a161a4fd0>"
      ]
     },
     "metadata": {},
     "output_type": "display_data"
    }
   ],
   "source": [
    "df_2.plot.scatter('permit', 'handgun'); #this shows that there is no real relation between these variables."
   ]
  },
  {
   "cell_type": "code",
   "execution_count": 35,
   "metadata": {},
   "outputs": [
    {
     "data": {
      "image/png": "[encoded data removed]",
      "text/plain": [
       "<matplotlib.figure.Figure at 0x1a12c1cf60>"
      ]
     },
     "metadata": {},
     "output_type": "display_data"
    }
   ],
   "source": [
    "df_2.plot.scatter('permit', 'long_gun');"
   ]
  },
  {
   "cell_type": "code",
   "execution_count": 36,
   "metadata": {},
   "outputs": [
    {
     "data": {
      "image/png": "[encoded data removed]",
      "text/plain": [
       "<matplotlib.figure.Figure at 0x1a15f41ba8>"
      ]
     },
     "metadata": {},
     "output_type": "display_data"
    }
   ],
   "source": [
    "df_2.plot.bar(y = 'permit', x = 'state', figsize=(15,4)); #this and the bar chart below confirm what the scatter plot shows"
   ]
  },
  {
   "cell_type": "code",
   "execution_count": 37,
   "metadata": {
    "scrolled": true
   },
   "outputs": [
    {
     "data": {
      "image/png": "[encoded data removed]",
      "text/plain": [
       "<matplotlib.figure.Figure at 0x1a16f73128>"
      ]
     },
     "metadata": {},
     "output_type": "display_data"
    }
   ],
   "source": [
    "df_2.plot.bar(y = 'handgun', x = 'state', figsize=(15,4));"
   ]
  },
  {
   "cell_type": "code",
   "execution_count": 38,
   "metadata": {},
   "outputs": [
    {
     "data": {
      "image/png": "[encoded data removed]",
      "text/plain": [
       "<matplotlib.figure.Figure at 0x1a16a20978>"
      ]
     },
     "metadata": {},
     "output_type": "display_data"
    }
   ],
   "source": [
    "df_2.plot.bar(y = 'long_gun', x = 'state', figsize=(15,4));"
   ]
  },
  {
   "cell_type": "code",
   "execution_count": 39,
   "metadata": {},
   "outputs": [
    {
     "data": {
      "text/html": [
       "<div>\n",
       "<style>\n",
       "    .dataframe thead tr:only-child th {\n",
       "        text-align: right;\n",
       "    }\n",
       "\n",
       "    .dataframe thead th {\n",
       "        text-align: left;\n",
       "    }\n",
       "\n",
       "    .dataframe tbody tr th {\n",
       "        vertical-align: top;\n",
       "    }\n",
       "</style>\n",
       "<table border=\"1\" class=\"dataframe\">\n",
       "  <thead>\n",
       "    <tr style=\"text-align: right;\">\n",
       "      <th></th>\n",
       "      <th>state</th>\n",
       "      <th>population_estimates</th>\n",
       "      <th>foreign_born_percent</th>\n",
       "      <th>median_household_income</th>\n",
       "    </tr>\n",
       "  </thead>\n",
       "  <tbody>\n",
       "    <tr>\n",
       "      <th>0</th>\n",
       "      <td>Alabama</td>\n",
       "      <td>4863300.0</td>\n",
       "      <td>0.035</td>\n",
       "      <td>43623.0</td>\n",
       "    </tr>\n",
       "    <tr>\n",
       "      <th>1</th>\n",
       "      <td>Alaska</td>\n",
       "      <td>741894.0</td>\n",
       "      <td>0.074</td>\n",
       "      <td>72515.0</td>\n",
       "    </tr>\n",
       "    <tr>\n",
       "      <th>2</th>\n",
       "      <td>Arizona</td>\n",
       "      <td>6931071.0</td>\n",
       "      <td>0.135</td>\n",
       "      <td>50255.0</td>\n",
       "    </tr>\n",
       "    <tr>\n",
       "      <th>3</th>\n",
       "      <td>Arkansas</td>\n",
       "      <td>2988248.0</td>\n",
       "      <td>0.047</td>\n",
       "      <td>41371.0</td>\n",
       "    </tr>\n",
       "    <tr>\n",
       "      <th>4</th>\n",
       "      <td>California</td>\n",
       "      <td>39250017.0</td>\n",
       "      <td>0.270</td>\n",
       "      <td>61818.0</td>\n",
       "    </tr>\n",
       "  </tbody>\n",
       "</table>\n",
       "</div>"
      ],
      "text/plain": [
       "        state  population_estimates  foreign_born_percent  \\\n",
       "0     Alabama             4863300.0                 0.035   \n",
       "1      Alaska              741894.0                 0.074   \n",
       "2     Arizona             6931071.0                 0.135   \n",
       "3    Arkansas             2988248.0                 0.047   \n",
       "4  California            39250017.0                 0.270   \n",
       "\n",
       "   median_household_income  \n",
       "0                  43623.0  \n",
       "1                  72515.0  \n",
       "2                  50255.0  \n",
       "3                  41371.0  \n",
       "4                  61818.0  "
      ]
     },
     "execution_count": 39,
     "metadata": {},
     "output_type": "execute_result"
    }
   ],
   "source": [
    "#Lets check on df_1 for the census data\n",
    "df_1.head()"
   ]
  },
  {
   "cell_type": "code",
   "execution_count": 40,
   "metadata": {},
   "outputs": [
    {
     "data": {
      "text/html": [
       "<div>\n",
       "<style>\n",
       "    .dataframe thead tr:only-child th {\n",
       "        text-align: right;\n",
       "    }\n",
       "\n",
       "    .dataframe thead th {\n",
       "        text-align: left;\n",
       "    }\n",
       "\n",
       "    .dataframe tbody tr th {\n",
       "        vertical-align: top;\n",
       "    }\n",
       "</style>\n",
       "<table border=\"1\" class=\"dataframe\">\n",
       "  <thead>\n",
       "    <tr style=\"text-align: right;\">\n",
       "      <th></th>\n",
       "      <th>state</th>\n",
       "      <th>permit</th>\n",
       "      <th>handgun</th>\n",
       "      <th>long_gun</th>\n",
       "    </tr>\n",
       "  </thead>\n",
       "  <tbody>\n",
       "    <tr>\n",
       "      <th>50</th>\n",
       "      <td>Virginia</td>\n",
       "      <td>818.083333</td>\n",
       "      <td>24663.583333</td>\n",
       "      <td>17497.916667</td>\n",
       "    </tr>\n",
       "    <tr>\n",
       "      <th>51</th>\n",
       "      <td>Washington</td>\n",
       "      <td>22356.166667</td>\n",
       "      <td>17842.166667</td>\n",
       "      <td>12585.750000</td>\n",
       "    </tr>\n",
       "    <tr>\n",
       "      <th>52</th>\n",
       "      <td>West Virginia</td>\n",
       "      <td>2233.833333</td>\n",
       "      <td>7677.000000</td>\n",
       "      <td>6758.750000</td>\n",
       "    </tr>\n",
       "    <tr>\n",
       "      <th>53</th>\n",
       "      <td>Wisconsin</td>\n",
       "      <td>16619.250000</td>\n",
       "      <td>15525.000000</td>\n",
       "      <td>13315.333333</td>\n",
       "    </tr>\n",
       "    <tr>\n",
       "      <th>54</th>\n",
       "      <td>Wyoming</td>\n",
       "      <td>661.500000</td>\n",
       "      <td>1880.750000</td>\n",
       "      <td>2151.250000</td>\n",
       "    </tr>\n",
       "  </tbody>\n",
       "</table>\n",
       "</div>"
      ],
      "text/plain": [
       "            state        permit       handgun      long_gun\n",
       "50       Virginia    818.083333  24663.583333  17497.916667\n",
       "51     Washington  22356.166667  17842.166667  12585.750000\n",
       "52  West Virginia   2233.833333   7677.000000   6758.750000\n",
       "53      Wisconsin  16619.250000  15525.000000  13315.333333\n",
       "54        Wyoming    661.500000   1880.750000   2151.250000"
      ]
     },
     "execution_count": 40,
     "metadata": {},
     "output_type": "execute_result"
    }
   ],
   "source": [
    "#now lets do a quick check on df_2 for the gun data, they both look good at first glance.\n",
    "df_2.tail()"
   ]
  },
  {
   "cell_type": "code",
   "execution_count": 41,
   "metadata": {},
   "outputs": [
    {
     "name": "stdout",
     "output_type": "stream",
     "text": [
      "<class 'pandas.core.frame.DataFrame'>\n",
      "RangeIndex: 50 entries, 0 to 49\n",
      "Data columns (total 4 columns):\n",
      "state                      50 non-null object\n",
      "population_estimates       50 non-null float64\n",
      "foreign_born_percent       50 non-null float64\n",
      "median_household_income    50 non-null float64\n",
      "dtypes: float64(3), object(1)\n",
      "memory usage: 1.6+ KB\n"
     ]
    },
    {
     "data": {
      "text/plain": [
       "(50, 4)"
      ]
     },
     "execution_count": 41,
     "metadata": {},
     "output_type": "execute_result"
    }
   ],
   "source": [
    "df_1.info() #Okay looks like the heavy lifting is over for df_1\n",
    "df_1.shape"
   ]
  },
  {
   "cell_type": "code",
   "execution_count": 42,
   "metadata": {},
   "outputs": [
    {
     "name": "stdout",
     "output_type": "stream",
     "text": [
      "<class 'pandas.core.frame.DataFrame'>\n",
      "RangeIndex: 55 entries, 0 to 54\n",
      "Data columns (total 4 columns):\n",
      "state       55 non-null object\n",
      "permit      55 non-null float64\n",
      "handgun     55 non-null float64\n",
      "long_gun    55 non-null float64\n",
      "dtypes: float64(3), object(1)\n",
      "memory usage: 1.8+ KB\n"
     ]
    },
    {
     "data": {
      "text/plain": [
       "(55, 4)"
      ]
     },
     "execution_count": 42,
     "metadata": {},
     "output_type": "execute_result"
    }
   ],
   "source": [
    "#It looks like these are both already in float form, thus there is nothing further that needs to be done in terms of data integrity\n",
    "#our data looks clean now\n",
    "df_2.info()\n",
    "df_2.shape"
   ]
  },
  {
   "cell_type": "markdown",
   "metadata": {},
   "source": [
    ">**Now, I see the shapes do not match because one has more states than the other. I have some options, I could find out by reading the names on the state column and see if they match, or even better I could simply drop the rows which do not match on the \"state\" column when I merge the dataframes.** "
   ]
  },
  {
   "cell_type": "markdown",
   "metadata": {},
   "source": [
    "### Merging dataframes in order to see what other observations can be made from the data."
   ]
  },
  {
   "cell_type": "code",
   "execution_count": 43,
   "metadata": {},
   "outputs": [],
   "source": [
    "df_3 = pd.merge(df_1, df_2, how='inner', on=['state'])"
   ]
  },
  {
   "cell_type": "markdown",
   "metadata": {},
   "source": [
    ">**To achieve a clean merge I selected how='inner' and on='state' to keep only the information in df_1 according to column \"state\".**"
   ]
  },
  {
   "cell_type": "code",
   "execution_count": 44,
   "metadata": {
    "scrolled": true
   },
   "outputs": [
    {
     "data": {
      "text/html": [
       "<div>\n",
       "<style>\n",
       "    .dataframe thead tr:only-child th {\n",
       "        text-align: right;\n",
       "    }\n",
       "\n",
       "    .dataframe thead th {\n",
       "        text-align: left;\n",
       "    }\n",
       "\n",
       "    .dataframe tbody tr th {\n",
       "        vertical-align: top;\n",
       "    }\n",
       "</style>\n",
       "<table border=\"1\" class=\"dataframe\">\n",
       "  <thead>\n",
       "    <tr style=\"text-align: right;\">\n",
       "      <th></th>\n",
       "      <th>state</th>\n",
       "      <th>population_estimates</th>\n",
       "      <th>foreign_born_percent</th>\n",
       "      <th>median_household_income</th>\n",
       "      <th>permit</th>\n",
       "      <th>handgun</th>\n",
       "      <th>long_gun</th>\n",
       "    </tr>\n",
       "  </thead>\n",
       "  <tbody>\n",
       "    <tr>\n",
       "      <th>25</th>\n",
       "      <td>Montana</td>\n",
       "      <td>1042520.0</td>\n",
       "      <td>0.021</td>\n",
       "      <td>47169.0</td>\n",
       "      <td>1709.333333</td>\n",
       "      <td>3128.916667</td>\n",
       "      <td>4736.166667</td>\n",
       "    </tr>\n",
       "    <tr>\n",
       "      <th>26</th>\n",
       "      <td>Nebraska</td>\n",
       "      <td>1907116.0</td>\n",
       "      <td>0.066</td>\n",
       "      <td>52997.0</td>\n",
       "      <td>4865.500000</td>\n",
       "      <td>143.083333</td>\n",
       "      <td>2207.833333</td>\n",
       "    </tr>\n",
       "    <tr>\n",
       "      <th>27</th>\n",
       "      <td>Nevada</td>\n",
       "      <td>2940058.0</td>\n",
       "      <td>0.192</td>\n",
       "      <td>51847.0</td>\n",
       "      <td>2579.166667</td>\n",
       "      <td>5513.166667</td>\n",
       "      <td>3175.416667</td>\n",
       "    </tr>\n",
       "    <tr>\n",
       "      <th>28</th>\n",
       "      <td>New Hampshire</td>\n",
       "      <td>1334795.0</td>\n",
       "      <td>0.057</td>\n",
       "      <td>66779.0</td>\n",
       "      <td>4028.916667</td>\n",
       "      <td>5710.750000</td>\n",
       "      <td>3723.416667</td>\n",
       "    </tr>\n",
       "    <tr>\n",
       "      <th>29</th>\n",
       "      <td>New Jersey</td>\n",
       "      <td>8944469.0</td>\n",
       "      <td>0.217</td>\n",
       "      <td>72093.0</td>\n",
       "      <td>0.000000</td>\n",
       "      <td>5854.083333</td>\n",
       "      <td>4091.583333</td>\n",
       "    </tr>\n",
       "    <tr>\n",
       "      <th>30</th>\n",
       "      <td>New Mexico</td>\n",
       "      <td>2081015.0</td>\n",
       "      <td>0.098</td>\n",
       "      <td>44963.0</td>\n",
       "      <td>1179.083333</td>\n",
       "      <td>5786.166667</td>\n",
       "      <td>4638.666667</td>\n",
       "    </tr>\n",
       "    <tr>\n",
       "      <th>31</th>\n",
       "      <td>New York</td>\n",
       "      <td>19745289.0</td>\n",
       "      <td>0.225</td>\n",
       "      <td>59269.0</td>\n",
       "      <td>4137.166667</td>\n",
       "      <td>11107.083333</td>\n",
       "      <td>16472.500000</td>\n",
       "    </tr>\n",
       "    <tr>\n",
       "      <th>32</th>\n",
       "      <td>North Carolina</td>\n",
       "      <td>10146788.0</td>\n",
       "      <td>0.077</td>\n",
       "      <td>46868.0</td>\n",
       "      <td>28780.333333</td>\n",
       "      <td>1382.916667</td>\n",
       "      <td>14743.250000</td>\n",
       "    </tr>\n",
       "    <tr>\n",
       "      <th>33</th>\n",
       "      <td>North Dakota</td>\n",
       "      <td>757952.0</td>\n",
       "      <td>0.032</td>\n",
       "      <td>57181.0</td>\n",
       "      <td>1103.333333</td>\n",
       "      <td>1664.583333</td>\n",
       "      <td>2834.416667</td>\n",
       "    </tr>\n",
       "    <tr>\n",
       "      <th>34</th>\n",
       "      <td>Ohio</td>\n",
       "      <td>11614373.0</td>\n",
       "      <td>0.041</td>\n",
       "      <td>49429.0</td>\n",
       "      <td>13954.083333</td>\n",
       "      <td>32880.833333</td>\n",
       "      <td>20330.250000</td>\n",
       "    </tr>\n",
       "    <tr>\n",
       "      <th>35</th>\n",
       "      <td>Oklahoma</td>\n",
       "      <td>3923561.0</td>\n",
       "      <td>0.058</td>\n",
       "      <td>46879.0</td>\n",
       "      <td>0.000000</td>\n",
       "      <td>13848.416667</td>\n",
       "      <td>10876.166667</td>\n",
       "    </tr>\n",
       "    <tr>\n",
       "      <th>36</th>\n",
       "      <td>Oregon</td>\n",
       "      <td>4093465.0</td>\n",
       "      <td>0.099</td>\n",
       "      <td>51243.0</td>\n",
       "      <td>241.916667</td>\n",
       "      <td>14893.000000</td>\n",
       "      <td>11919.083333</td>\n",
       "    </tr>\n",
       "    <tr>\n",
       "      <th>37</th>\n",
       "      <td>Pennsylvania</td>\n",
       "      <td>12784227.0</td>\n",
       "      <td>0.063</td>\n",
       "      <td>53599.0</td>\n",
       "      <td>27812.916667</td>\n",
       "      <td>53519.333333</td>\n",
       "      <td>13178.416667</td>\n",
       "    </tr>\n",
       "    <tr>\n",
       "      <th>38</th>\n",
       "      <td>Rhode Island</td>\n",
       "      <td>1056426.0</td>\n",
       "      <td>0.133</td>\n",
       "      <td>56852.0</td>\n",
       "      <td>0.000000</td>\n",
       "      <td>1188.500000</td>\n",
       "      <td>850.333333</td>\n",
       "    </tr>\n",
       "    <tr>\n",
       "      <th>39</th>\n",
       "      <td>South Carolina</td>\n",
       "      <td>4961119.0</td>\n",
       "      <td>0.048</td>\n",
       "      <td>45483.0</td>\n",
       "      <td>12452.333333</td>\n",
       "      <td>11039.416667</td>\n",
       "      <td>7284.416667</td>\n",
       "    </tr>\n",
       "    <tr>\n",
       "      <th>40</th>\n",
       "      <td>South Dakota</td>\n",
       "      <td>865454.0</td>\n",
       "      <td>0.030</td>\n",
       "      <td>50957.0</td>\n",
       "      <td>1356.583333</td>\n",
       "      <td>3043.333333</td>\n",
       "      <td>4126.833333</td>\n",
       "    </tr>\n",
       "    <tr>\n",
       "      <th>41</th>\n",
       "      <td>Tennessee</td>\n",
       "      <td>6651194.0</td>\n",
       "      <td>0.048</td>\n",
       "      <td>45219.0</td>\n",
       "      <td>8840.166667</td>\n",
       "      <td>26597.416667</td>\n",
       "      <td>17513.416667</td>\n",
       "    </tr>\n",
       "    <tr>\n",
       "      <th>42</th>\n",
       "      <td>Texas</td>\n",
       "      <td>27862596.0</td>\n",
       "      <td>0.166</td>\n",
       "      <td>53207.0</td>\n",
       "      <td>32538.500000</td>\n",
       "      <td>53123.000000</td>\n",
       "      <td>40134.083333</td>\n",
       "    </tr>\n",
       "    <tr>\n",
       "      <th>43</th>\n",
       "      <td>Utah</td>\n",
       "      <td>3051217.0</td>\n",
       "      <td>0.084</td>\n",
       "      <td>60727.0</td>\n",
       "      <td>14866.083333</td>\n",
       "      <td>3950.083333</td>\n",
       "      <td>4511.083333</td>\n",
       "    </tr>\n",
       "    <tr>\n",
       "      <th>44</th>\n",
       "      <td>Vermont</td>\n",
       "      <td>624594.0</td>\n",
       "      <td>0.043</td>\n",
       "      <td>55176.0</td>\n",
       "      <td>0.000000</td>\n",
       "      <td>1526.666667</td>\n",
       "      <td>1571.083333</td>\n",
       "    </tr>\n",
       "    <tr>\n",
       "      <th>45</th>\n",
       "      <td>Virginia</td>\n",
       "      <td>8411808.0</td>\n",
       "      <td>0.117</td>\n",
       "      <td>65015.0</td>\n",
       "      <td>818.083333</td>\n",
       "      <td>24663.583333</td>\n",
       "      <td>17497.916667</td>\n",
       "    </tr>\n",
       "    <tr>\n",
       "      <th>46</th>\n",
       "      <td>Washington</td>\n",
       "      <td>7288000.0</td>\n",
       "      <td>0.134</td>\n",
       "      <td>61062.0</td>\n",
       "      <td>22356.166667</td>\n",
       "      <td>17842.166667</td>\n",
       "      <td>12585.750000</td>\n",
       "    </tr>\n",
       "    <tr>\n",
       "      <th>47</th>\n",
       "      <td>West Virginia</td>\n",
       "      <td>1831102.0</td>\n",
       "      <td>0.015</td>\n",
       "      <td>41751.0</td>\n",
       "      <td>2233.833333</td>\n",
       "      <td>7677.000000</td>\n",
       "      <td>6758.750000</td>\n",
       "    </tr>\n",
       "    <tr>\n",
       "      <th>48</th>\n",
       "      <td>Wisconsin</td>\n",
       "      <td>5778708.0</td>\n",
       "      <td>0.048</td>\n",
       "      <td>53357.0</td>\n",
       "      <td>16619.250000</td>\n",
       "      <td>15525.000000</td>\n",
       "      <td>13315.333333</td>\n",
       "    </tr>\n",
       "    <tr>\n",
       "      <th>49</th>\n",
       "      <td>Wyoming</td>\n",
       "      <td>585501.0</td>\n",
       "      <td>0.036</td>\n",
       "      <td>58840.0</td>\n",
       "      <td>661.500000</td>\n",
       "      <td>1880.750000</td>\n",
       "      <td>2151.250000</td>\n",
       "    </tr>\n",
       "  </tbody>\n",
       "</table>\n",
       "</div>"
      ],
      "text/plain": [
       "             state  population_estimates  foreign_born_percent  \\\n",
       "25         Montana             1042520.0                 0.021   \n",
       "26        Nebraska             1907116.0                 0.066   \n",
       "27          Nevada             2940058.0                 0.192   \n",
       "28   New Hampshire             1334795.0                 0.057   \n",
       "29      New Jersey             8944469.0                 0.217   \n",
       "30      New Mexico             2081015.0                 0.098   \n",
       "31        New York            19745289.0                 0.225   \n",
       "32  North Carolina            10146788.0                 0.077   \n",
       "33    North Dakota              757952.0                 0.032   \n",
       "34            Ohio            11614373.0                 0.041   \n",
       "35        Oklahoma             3923561.0                 0.058   \n",
       "36          Oregon             4093465.0                 0.099   \n",
       "37    Pennsylvania            12784227.0                 0.063   \n",
       "38    Rhode Island             1056426.0                 0.133   \n",
       "39  South Carolina             4961119.0                 0.048   \n",
       "40    South Dakota              865454.0                 0.030   \n",
       "41       Tennessee             6651194.0                 0.048   \n",
       "42           Texas            27862596.0                 0.166   \n",
       "43            Utah             3051217.0                 0.084   \n",
       "44         Vermont              624594.0                 0.043   \n",
       "45        Virginia             8411808.0                 0.117   \n",
       "46      Washington             7288000.0                 0.134   \n",
       "47   West Virginia             1831102.0                 0.015   \n",
       "48       Wisconsin             5778708.0                 0.048   \n",
       "49         Wyoming              585501.0                 0.036   \n",
       "\n",
       "    median_household_income        permit       handgun      long_gun  \n",
       "25                  47169.0   1709.333333   3128.916667   4736.166667  \n",
       "26                  52997.0   4865.500000    143.083333   2207.833333  \n",
       "27                  51847.0   2579.166667   5513.166667   3175.416667  \n",
       "28                  66779.0   4028.916667   5710.750000   3723.416667  \n",
       "29                  72093.0      0.000000   5854.083333   4091.583333  \n",
       "30                  44963.0   1179.083333   5786.166667   4638.666667  \n",
       "31                  59269.0   4137.166667  11107.083333  16472.500000  \n",
       "32                  46868.0  28780.333333   1382.916667  14743.250000  \n",
       "33                  57181.0   1103.333333   1664.583333   2834.416667  \n",
       "34                  49429.0  13954.083333  32880.833333  20330.250000  \n",
       "35                  46879.0      0.000000  13848.416667  10876.166667  \n",
       "36                  51243.0    241.916667  14893.000000  11919.083333  \n",
       "37                  53599.0  27812.916667  53519.333333  13178.416667  \n",
       "38                  56852.0      0.000000   1188.500000    850.333333  \n",
       "39                  45483.0  12452.333333  11039.416667   7284.416667  \n",
       "40                  50957.0   1356.583333   3043.333333   4126.833333  \n",
       "41                  45219.0   8840.166667  26597.416667  17513.416667  \n",
       "42                  53207.0  32538.500000  53123.000000  40134.083333  \n",
       "43                  60727.0  14866.083333   3950.083333   4511.083333  \n",
       "44                  55176.0      0.000000   1526.666667   1571.083333  \n",
       "45                  65015.0    818.083333  24663.583333  17497.916667  \n",
       "46                  61062.0  22356.166667  17842.166667  12585.750000  \n",
       "47                  41751.0   2233.833333   7677.000000   6758.750000  \n",
       "48                  53357.0  16619.250000  15525.000000  13315.333333  \n",
       "49                  58840.0    661.500000   1880.750000   2151.250000  "
      ]
     },
     "execution_count": 44,
     "metadata": {},
     "output_type": "execute_result"
    }
   ],
   "source": [
    "df_3.tail(25) #looks great now I can continue the exploration."
   ]
  },
  {
   "cell_type": "code",
   "execution_count": 45,
   "metadata": {
    "scrolled": true
   },
   "outputs": [
    {
     "name": "stdout",
     "output_type": "stream",
     "text": [
      "<class 'pandas.core.frame.DataFrame'>\n",
      "Int64Index: 50 entries, 0 to 49\n",
      "Data columns (total 7 columns):\n",
      "state                      50 non-null object\n",
      "population_estimates       50 non-null float64\n",
      "foreign_born_percent       50 non-null float64\n",
      "median_household_income    50 non-null float64\n",
      "permit                     50 non-null float64\n",
      "handgun                    50 non-null float64\n",
      "long_gun                   50 non-null float64\n",
      "dtypes: float64(6), object(1)\n",
      "memory usage: 3.1+ KB\n"
     ]
    },
    {
     "data": {
      "text/plain": [
       "(None, (50, 7))"
      ]
     },
     "execution_count": 45,
     "metadata": {},
     "output_type": "execute_result"
    }
   ],
   "source": [
    "df_3.info(), df_3.shape #It looks great, seems like the merging objective is done"
   ]
  },
  {
   "cell_type": "code",
   "execution_count": 46,
   "metadata": {
    "scrolled": false
   },
   "outputs": [
    {
     "data": {
      "text/html": [
       "<div>\n",
       "<style>\n",
       "    .dataframe thead tr:only-child th {\n",
       "        text-align: right;\n",
       "    }\n",
       "\n",
       "    .dataframe thead th {\n",
       "        text-align: left;\n",
       "    }\n",
       "\n",
       "    .dataframe tbody tr th {\n",
       "        vertical-align: top;\n",
       "    }\n",
       "</style>\n",
       "<table border=\"1\" class=\"dataframe\">\n",
       "  <thead>\n",
       "    <tr style=\"text-align: right;\">\n",
       "      <th></th>\n",
       "      <th>state</th>\n",
       "      <th>population_estimates</th>\n",
       "      <th>foreign_born_percent</th>\n",
       "      <th>median_household_income</th>\n",
       "      <th>permit</th>\n",
       "      <th>handgun</th>\n",
       "      <th>long_gun</th>\n",
       "    </tr>\n",
       "  </thead>\n",
       "  <tbody>\n",
       "    <tr>\n",
       "      <th>29</th>\n",
       "      <td>New Jersey</td>\n",
       "      <td>8944469.0</td>\n",
       "      <td>0.217</td>\n",
       "      <td>72093.0</td>\n",
       "      <td>0.0</td>\n",
       "      <td>5854.083333</td>\n",
       "      <td>4091.583333</td>\n",
       "    </tr>\n",
       "    <tr>\n",
       "      <th>35</th>\n",
       "      <td>Oklahoma</td>\n",
       "      <td>3923561.0</td>\n",
       "      <td>0.058</td>\n",
       "      <td>46879.0</td>\n",
       "      <td>0.0</td>\n",
       "      <td>13848.416667</td>\n",
       "      <td>10876.166667</td>\n",
       "    </tr>\n",
       "    <tr>\n",
       "      <th>38</th>\n",
       "      <td>Rhode Island</td>\n",
       "      <td>1056426.0</td>\n",
       "      <td>0.133</td>\n",
       "      <td>56852.0</td>\n",
       "      <td>0.0</td>\n",
       "      <td>1188.500000</td>\n",
       "      <td>850.333333</td>\n",
       "    </tr>\n",
       "    <tr>\n",
       "      <th>44</th>\n",
       "      <td>Vermont</td>\n",
       "      <td>624594.0</td>\n",
       "      <td>0.043</td>\n",
       "      <td>55176.0</td>\n",
       "      <td>0.0</td>\n",
       "      <td>1526.666667</td>\n",
       "      <td>1571.083333</td>\n",
       "    </tr>\n",
       "  </tbody>\n",
       "</table>\n",
       "</div>"
      ],
      "text/plain": [
       "           state  population_estimates  foreign_born_percent  \\\n",
       "29    New Jersey             8944469.0                 0.217   \n",
       "35      Oklahoma             3923561.0                 0.058   \n",
       "38  Rhode Island             1056426.0                 0.133   \n",
       "44       Vermont              624594.0                 0.043   \n",
       "\n",
       "    median_household_income  permit       handgun      long_gun  \n",
       "29                  72093.0     0.0   5854.083333   4091.583333  \n",
       "35                  46879.0     0.0  13848.416667  10876.166667  \n",
       "38                  56852.0     0.0   1188.500000    850.333333  \n",
       "44                  55176.0     0.0   1526.666667   1571.083333  "
      ]
     },
     "execution_count": 46,
     "metadata": {},
     "output_type": "execute_result"
    }
   ],
   "source": [
    "df_3.query('permit == 0')"
   ]
  },
  {
   "cell_type": "code",
   "execution_count": 47,
   "metadata": {
    "scrolled": false
   },
   "outputs": [
    {
     "data": {
      "text/html": [
       "<div>\n",
       "<style>\n",
       "    .dataframe thead tr:only-child th {\n",
       "        text-align: right;\n",
       "    }\n",
       "\n",
       "    .dataframe thead th {\n",
       "        text-align: left;\n",
       "    }\n",
       "\n",
       "    .dataframe tbody tr th {\n",
       "        vertical-align: top;\n",
       "    }\n",
       "</style>\n",
       "<table border=\"1\" class=\"dataframe\">\n",
       "  <thead>\n",
       "    <tr style=\"text-align: right;\">\n",
       "      <th></th>\n",
       "      <th>population_estimates</th>\n",
       "      <th>foreign_born_percent</th>\n",
       "      <th>median_household_income</th>\n",
       "      <th>permit</th>\n",
       "      <th>handgun</th>\n",
       "      <th>long_gun</th>\n",
       "    </tr>\n",
       "  </thead>\n",
       "  <tbody>\n",
       "    <tr>\n",
       "      <th>count</th>\n",
       "      <td>5.000000e+01</td>\n",
       "      <td>50.000000</td>\n",
       "      <td>50.000000</td>\n",
       "      <td>50.000000</td>\n",
       "      <td>50.000000</td>\n",
       "      <td>50.000000</td>\n",
       "    </tr>\n",
       "    <tr>\n",
       "      <th>mean</th>\n",
       "      <td>6.448927e+06</td>\n",
       "      <td>0.089620</td>\n",
       "      <td>54311.860000</td>\n",
       "      <td>18556.246667</td>\n",
       "      <td>13450.881667</td>\n",
       "      <td>9975.523333</td>\n",
       "    </tr>\n",
       "    <tr>\n",
       "      <th>std</th>\n",
       "      <td>7.271769e+06</td>\n",
       "      <td>0.060841</td>\n",
       "      <td>8949.529115</td>\n",
       "      <td>42794.077799</td>\n",
       "      <td>14086.772401</td>\n",
       "      <td>9009.979300</td>\n",
       "    </tr>\n",
       "    <tr>\n",
       "      <th>min</th>\n",
       "      <td>5.855010e+05</td>\n",
       "      <td>0.015000</td>\n",
       "      <td>39665.000000</td>\n",
       "      <td>0.000000</td>\n",
       "      <td>0.000000</td>\n",
       "      <td>0.000000</td>\n",
       "    </tr>\n",
       "    <tr>\n",
       "      <th>25%</th>\n",
       "      <td>1.850106e+06</td>\n",
       "      <td>0.044000</td>\n",
       "      <td>47526.000000</td>\n",
       "      <td>1363.833333</td>\n",
       "      <td>3895.208333</td>\n",
       "      <td>3767.145833</td>\n",
       "    </tr>\n",
       "    <tr>\n",
       "      <th>50%</th>\n",
       "      <td>4.559320e+06</td>\n",
       "      <td>0.067500</td>\n",
       "      <td>52601.000000</td>\n",
       "      <td>4743.416667</td>\n",
       "      <td>10059.375000</td>\n",
       "      <td>7509.791667</td>\n",
       "    </tr>\n",
       "    <tr>\n",
       "      <th>75%</th>\n",
       "      <td>7.198768e+06</td>\n",
       "      <td>0.133750</td>\n",
       "      <td>60599.000000</td>\n",
       "      <td>18724.500000</td>\n",
       "      <td>16056.250000</td>\n",
       "      <td>13281.104167</td>\n",
       "    </tr>\n",
       "    <tr>\n",
       "      <th>max</th>\n",
       "      <td>3.925002e+07</td>\n",
       "      <td>0.270000</td>\n",
       "      <td>74551.000000</td>\n",
       "      <td>281051.083333</td>\n",
       "      <td>55192.333333</td>\n",
       "      <td>46212.500000</td>\n",
       "    </tr>\n",
       "  </tbody>\n",
       "</table>\n",
       "</div>"
      ],
      "text/plain": [
       "       population_estimates  foreign_born_percent  median_household_income  \\\n",
       "count          5.000000e+01             50.000000                50.000000   \n",
       "mean           6.448927e+06              0.089620             54311.860000   \n",
       "std            7.271769e+06              0.060841              8949.529115   \n",
       "min            5.855010e+05              0.015000             39665.000000   \n",
       "25%            1.850106e+06              0.044000             47526.000000   \n",
       "50%            4.559320e+06              0.067500             52601.000000   \n",
       "75%            7.198768e+06              0.133750             60599.000000   \n",
       "max            3.925002e+07              0.270000             74551.000000   \n",
       "\n",
       "              permit       handgun      long_gun  \n",
       "count      50.000000     50.000000     50.000000  \n",
       "mean    18556.246667  13450.881667   9975.523333  \n",
       "std     42794.077799  14086.772401   9009.979300  \n",
       "min         0.000000      0.000000      0.000000  \n",
       "25%      1363.833333   3895.208333   3767.145833  \n",
       "50%      4743.416667  10059.375000   7509.791667  \n",
       "75%     18724.500000  16056.250000  13281.104167  \n",
       "max    281051.083333  55192.333333  46212.500000  "
      ]
     },
     "execution_count": 47,
     "metadata": {},
     "output_type": "execute_result"
    }
   ],
   "source": [
    "df_3.describe()"
   ]
  },
  {
   "cell_type": "markdown",
   "metadata": {},
   "source": [
    "### The plot below shows a correlation between the population and permits per state."
   ]
  },
  {
   "cell_type": "code",
   "execution_count": 48,
   "metadata": {},
   "outputs": [
    {
     "data": {
      "image/png": "[encoded data removed]",
      "text/plain": [
       "<matplotlib.figure.Figure at 0x1a1698e550>"
      ]
     },
     "metadata": {},
     "output_type": "display_data"
    }
   ],
   "source": [
    "df_3.query('permit < 281051.083333 & permit!=0').plot.scatter(x='population_estimates', y='permit', color='DarkGreen', label='Med Household Income-Permit');"
   ]
  },
  {
   "cell_type": "code",
   "execution_count": 49,
   "metadata": {
    "scrolled": true
   },
   "outputs": [
    {
     "data": {
      "image/png": "[encoded data removed]",
      "text/plain": [
       "<matplotlib.figure.Figure at 0x1a16a6fcf8>"
      ]
     },
     "metadata": {},
     "output_type": "display_data"
    }
   ],
   "source": [
    "df_3.query('permit != 0').plot.scatter(x='median_household_income', y='permit', color='DarkGreen', label='Med Household Income-Permit');"
   ]
  },
  {
   "cell_type": "code",
   "execution_count": 50,
   "metadata": {},
   "outputs": [
    {
     "data": {
      "image/png": "[encoded data removed]",
      "text/plain": [
       "<matplotlib.figure.Figure at 0x1a16a6feb8>"
      ]
     },
     "metadata": {},
     "output_type": "display_data"
    }
   ],
   "source": [
    "df_3.query('permit != 0').plot.scatter(x='median_household_income', y='handgun', color='DarkGreen', label='Med Household Income-Permit');"
   ]
  },
  {
   "cell_type": "code",
   "execution_count": 51,
   "metadata": {
    "scrolled": true
   },
   "outputs": [
    {
     "data": {
      "image/png": "[encoded data removed]",
      "text/plain": [
       "<matplotlib.figure.Figure at 0x1a16a971d0>"
      ]
     },
     "metadata": {},
     "output_type": "display_data"
    }
   ],
   "source": [
    "df_3.query('permit != 0').plot.scatter(x='foreign_born_percent', y='permit', color='DarkGreen', label='Foreign Born-Permit');"
   ]
  },
  {
   "cell_type": "code",
   "execution_count": 52,
   "metadata": {
    "scrolled": false
   },
   "outputs": [
    {
     "data": {
      "image/png": "[encoded data removed]",
      "text/plain": [
       "<matplotlib.figure.Figure at 0x1a16a87da0>"
      ]
     },
     "metadata": {},
     "output_type": "display_data"
    }
   ],
   "source": [
    "df_3.hist(figsize=(8,10));"
   ]
  },
  {
   "cell_type": "markdown",
   "metadata": {},
   "source": [
    "### The permits column seems to have a few states with zero permits issued. Since I observed earlier that there is a correlation between the population and the number of permits, I will use those numbers to create a coefficient to multiply by the population and reaplace the zeros in the permit column."
   ]
  },
  {
   "cell_type": "code",
   "execution_count": 53,
   "metadata": {},
   "outputs": [],
   "source": [
    "coeff = df_3.query('permit!=0 & permit<281051.083333').permit.mean()/df_3.query('permit!=0 & permit<281051.083333').population_estimates.mean()"
   ]
  },
  {
   "cell_type": "code",
   "execution_count": 54,
   "metadata": {},
   "outputs": [],
   "source": [
    "zero_vals = df_3.query('permit==0').population_estimates*coeff"
   ]
  },
  {
   "cell_type": "code",
   "execution_count": 55,
   "metadata": {},
   "outputs": [
    {
     "data": {
      "text/plain": [
       "29    19063.236901\n",
       "35     8362.237360\n",
       "38     2251.547756\n",
       "44     1331.189519\n",
       "Name: population_estimates, dtype: float64"
      ]
     },
     "execution_count": 55,
     "metadata": {},
     "output_type": "execute_result"
    }
   ],
   "source": [
    "zero_vals"
   ]
  },
  {
   "cell_type": "code",
   "execution_count": 56,
   "metadata": {},
   "outputs": [],
   "source": [
    "df_3.permit.replace(0,zero_vals, inplace=True)"
   ]
  },
  {
   "cell_type": "code",
   "execution_count": 57,
   "metadata": {},
   "outputs": [
    {
     "data": {
      "text/html": [
       "<div>\n",
       "<style>\n",
       "    .dataframe thead tr:only-child th {\n",
       "        text-align: right;\n",
       "    }\n",
       "\n",
       "    .dataframe thead th {\n",
       "        text-align: left;\n",
       "    }\n",
       "\n",
       "    .dataframe tbody tr th {\n",
       "        vertical-align: top;\n",
       "    }\n",
       "</style>\n",
       "<table border=\"1\" class=\"dataframe\">\n",
       "  <thead>\n",
       "    <tr style=\"text-align: right;\">\n",
       "      <th></th>\n",
       "      <th>state</th>\n",
       "      <th>population_estimates</th>\n",
       "      <th>foreign_born_percent</th>\n",
       "      <th>median_household_income</th>\n",
       "      <th>permit</th>\n",
       "      <th>handgun</th>\n",
       "      <th>long_gun</th>\n",
       "    </tr>\n",
       "  </thead>\n",
       "  <tbody>\n",
       "  </tbody>\n",
       "</table>\n",
       "</div>"
      ],
      "text/plain": [
       "Empty DataFrame\n",
       "Columns: [state, population_estimates, foreign_born_percent, median_household_income, permit, handgun, long_gun]\n",
       "Index: []"
      ]
     },
     "execution_count": 57,
     "metadata": {},
     "output_type": "execute_result"
    }
   ],
   "source": [
    "df_3.query('permit == 0')"
   ]
  },
  {
   "cell_type": "code",
   "execution_count": 58,
   "metadata": {
    "scrolled": false
   },
   "outputs": [
    {
     "data": {
      "text/html": [
       "<div>\n",
       "<style>\n",
       "    .dataframe thead tr:only-child th {\n",
       "        text-align: right;\n",
       "    }\n",
       "\n",
       "    .dataframe thead th {\n",
       "        text-align: left;\n",
       "    }\n",
       "\n",
       "    .dataframe tbody tr th {\n",
       "        vertical-align: top;\n",
       "    }\n",
       "</style>\n",
       "<table border=\"1\" class=\"dataframe\">\n",
       "  <thead>\n",
       "    <tr style=\"text-align: right;\">\n",
       "      <th></th>\n",
       "      <th>state</th>\n",
       "      <th>population_estimates</th>\n",
       "      <th>foreign_born_percent</th>\n",
       "      <th>median_household_income</th>\n",
       "      <th>permit</th>\n",
       "      <th>handgun</th>\n",
       "      <th>long_gun</th>\n",
       "    </tr>\n",
       "  </thead>\n",
       "  <tbody>\n",
       "    <tr>\n",
       "      <th>10</th>\n",
       "      <td>Hawaii</td>\n",
       "      <td>1428557.0</td>\n",
       "      <td>0.177</td>\n",
       "      <td>69515.0</td>\n",
       "      <td>1385.583333</td>\n",
       "      <td>0.0</td>\n",
       "      <td>0.0</td>\n",
       "    </tr>\n",
       "  </tbody>\n",
       "</table>\n",
       "</div>"
      ],
      "text/plain": [
       "     state  population_estimates  foreign_born_percent  \\\n",
       "10  Hawaii             1428557.0                 0.177   \n",
       "\n",
       "    median_household_income       permit  handgun  long_gun  \n",
       "10                  69515.0  1385.583333      0.0       0.0  "
      ]
     },
     "execution_count": 58,
     "metadata": {},
     "output_type": "execute_result"
    }
   ],
   "source": [
    "df_3.query('handgun == 0|long_gun==0')"
   ]
  },
  {
   "cell_type": "code",
   "execution_count": 59,
   "metadata": {},
   "outputs": [
    {
     "data": {
      "text/plain": [
       "<matplotlib.axes._subplots.AxesSubplot at 0x1a12c42c18>"
      ]
     },
     "execution_count": 59,
     "metadata": {},
     "output_type": "execute_result"
    },
    {
     "data": {
      "image/png": "[encoded data removed]",
      "text/plain": [
       "<matplotlib.figure.Figure at 0x1a15f46f28>"
      ]
     },
     "metadata": {},
     "output_type": "display_data"
    }
   ],
   "source": [
    "df_3.plot.scatter(x='median_household_income', y='permit', color='DarkBlue', s=[4,8], label='Income-Permit', alpha=0.3, figsize=(12, 5))"
   ]
  },
  {
   "cell_type": "code",
   "execution_count": 60,
   "metadata": {},
   "outputs": [
    {
     "data": {
      "text/plain": [
       "<matplotlib.axes._subplots.AxesSubplot at 0x1a16971b70>"
      ]
     },
     "execution_count": 60,
     "metadata": {},
     "output_type": "execute_result"
    },
    {
     "data": {
      "image/png": "[encoded data removed]",
      "text/plain": [
       "<matplotlib.figure.Figure at 0x1a16a7fe48>"
      ]
     },
     "metadata": {},
     "output_type": "display_data"
    }
   ],
   "source": [
    "df_3.query('permit!=0').plot.scatter(x='population_estimates', y='permit', color='DarkBlue', s=[4,8], label='Income-Permit', alpha=0.3, figsize=(12, 5))"
   ]
  },
  {
   "cell_type": "code",
   "execution_count": 61,
   "metadata": {},
   "outputs": [],
   "source": [
    "df_4 = df_3.copy() # the next two lines will be used to change the data in the first two columns from quantitative to categorical."
   ]
  },
  {
   "cell_type": "code",
   "execution_count": 62,
   "metadata": {},
   "outputs": [],
   "source": [
    "df_4[\"foreign_born_high_low\"] = np.where(df_4['foreign_born_percent']>0.067500, 'high', 'low') "
   ]
  },
  {
   "cell_type": "code",
   "execution_count": 63,
   "metadata": {
    "scrolled": true
   },
   "outputs": [],
   "source": [
    "df_4[\"median_household_income_high_low\"] = np.where(df_4['median_household_income']>52601.0, 'high', 'low')"
   ]
  },
  {
   "cell_type": "code",
   "execution_count": 64,
   "metadata": {},
   "outputs": [
    {
     "data": {
      "image/png": "[encoded data removed]",
      "text/plain": [
       "<matplotlib.figure.Figure at 0x1a12c2b668>"
      ]
     },
     "metadata": {},
     "output_type": "display_data"
    }
   ],
   "source": [
    "df_4.query('permit < 281051.083333').plot.scatter(x='median_household_income', y='permit', color='DarkBlue', s=[4,8], label='Income-Permit', alpha=0.3, figsize=(12, 5));"
   ]
  },
  {
   "cell_type": "code",
   "execution_count": 65,
   "metadata": {},
   "outputs": [
    {
     "data": {
      "image/png": "[encoded data removed]",
      "text/plain": [
       "<matplotlib.figure.Figure at 0x1a16137c88>"
      ]
     },
     "metadata": {},
     "output_type": "display_data"
    }
   ],
   "source": [
    "df_4.plot.scatter(x='median_household_income', y='permit', color='DarkBlue', s=[4,8], label='Income-Permit', alpha=0.3, figsize=(12, 5));\n"
   ]
  },
  {
   "cell_type": "code",
   "execution_count": 66,
   "metadata": {},
   "outputs": [
    {
     "data": {
      "image/png": "[encoded data removed]",
      "text/plain": [
       "<matplotlib.figure.Figure at 0x1a16029320>"
      ]
     },
     "metadata": {},
     "output_type": "display_data"
    }
   ],
   "source": [
    "df_4.plot.scatter(x='foreign_born_percent', y='permit', color='DarkGreen', label='Foreign Born-Permit');"
   ]
  },
  {
   "cell_type": "markdown",
   "metadata": {},
   "source": [
    "<a id='eda'></a>\n",
    "## Exploratory Data Analysis\n",
    "\n",
    "### Research Question 1 : Do states with higher median household income have a higher rate of permits issued?"
   ]
  },
  {
   "cell_type": "code",
   "execution_count": 67,
   "metadata": {},
   "outputs": [
    {
     "data": {
      "text/plain": [
       "15790.908967038225"
      ]
     },
     "execution_count": 67,
     "metadata": {},
     "output_type": "execute_result"
    }
   ],
   "source": [
    "df_4.query('median_household_income_high_low == \"high\"')['permit'].mean()"
   ]
  },
  {
   "cell_type": "code",
   "execution_count": 68,
   "metadata": {},
   "outputs": [
    {
     "data": {
      "text/plain": [
       "22561.91282773227"
      ]
     },
     "execution_count": 68,
     "metadata": {},
     "output_type": "execute_result"
    }
   ],
   "source": [
    "df_4.query('median_household_income_high_low == \"low\"')['permit'].mean()"
   ]
  },
  {
   "cell_type": "code",
   "execution_count": 69,
   "metadata": {
    "scrolled": false
   },
   "outputs": [
    {
     "data": {
      "image/png": "[encoded data removed]",
      "text/plain": [
       "<matplotlib.figure.Figure at 0x1a16a6e6d8>"
      ]
     },
     "metadata": {},
     "output_type": "display_data"
    }
   ],
   "source": [
    "df_4.groupby('median_household_income_high_low')['permit'].mean().plot(kind='bar', figsize=(12,6))\n",
    "labels = ['High Median Household Income', 'Low Median Household Income']\n",
    "plt.ylabel('Permits Issued')\n",
    "plt.xlabel('Median Household Income')\n",
    "plt.xticks(np.arange(2), labels, rotation='horizontal');"
   ]
  },
  {
   "cell_type": "markdown",
   "metadata": {},
   "source": [
    "### Research Question 2 : Do states with higher rates of foreigners have a higher rate of permits issued?"
   ]
  },
  {
   "cell_type": "code",
   "execution_count": 70,
   "metadata": {},
   "outputs": [
    {
     "data": {
      "text/plain": [
       "16563.668052932066"
      ]
     },
     "execution_count": 70,
     "metadata": {},
     "output_type": "execute_result"
    }
   ],
   "source": [
    "df_4.query('foreign_born_high_low == \"high\"')['permit'].mean()"
   ]
  },
  {
   "cell_type": "code",
   "execution_count": 71,
   "metadata": {},
   "outputs": [
    {
     "data": {
      "text/plain": [
       "21789.15374183843"
      ]
     },
     "execution_count": 71,
     "metadata": {},
     "output_type": "execute_result"
    }
   ],
   "source": [
    "df_4.query('foreign_born_high_low == \"low\"')['permit'].mean()"
   ]
  },
  {
   "cell_type": "code",
   "execution_count": 72,
   "metadata": {},
   "outputs": [
    {
     "data": {
      "image/png": "[encoded data removed]",
      "text/plain": [
       "<matplotlib.figure.Figure at 0x1a160a7518>"
      ]
     },
     "metadata": {},
     "output_type": "display_data"
    }
   ],
   "source": [
    "df_4.groupby('foreign_born_high_low')['permit'].mean().plot(kind='bar',figsize=(12,6))\n",
    "labels = ['High Foreign', 'Low Foreign']\n",
    "plt.ylabel('Permits Issued')\n",
    "plt.xlabel('Percent of Foreign Born')\n",
    "plt.xticks(np.arange(2), labels, rotation='horizontal');"
   ]
  },
  {
   "cell_type": "markdown",
   "metadata": {},
   "source": [
    "### Research Question 3 : Do states with higher rates of foreigners and higher median household incomes, have a higher rate of permits?"
   ]
  },
  {
   "cell_type": "code",
   "execution_count": 73,
   "metadata": {},
   "outputs": [
    {
     "data": {
      "text/plain": [
       "19109.60988176284"
      ]
     },
     "execution_count": 73,
     "metadata": {},
     "output_type": "execute_result"
    }
   ],
   "source": [
    "df_4.query('foreign_born_high_low == \"high\" & median_household_income_high_low == \"high\"')['permit'].mean()"
   ]
  },
  {
   "cell_type": "code",
   "execution_count": 74,
   "metadata": {},
   "outputs": [
    {
     "data": {
      "text/plain": [
       "27930.558079998435"
      ]
     },
     "execution_count": 74,
     "metadata": {},
     "output_type": "execute_result"
    }
   ],
   "source": [
    "df_4.query('foreign_born_high_low == \"low\" & median_household_income_high_low ==\"low\"')['permit'].mean()"
   ]
  },
  {
   "cell_type": "code",
   "execution_count": 75,
   "metadata": {
    "scrolled": true
   },
   "outputs": [
    {
     "data": {
      "image/png": "[encoded data removed]",
      "text/plain": [
       "<matplotlib.figure.Figure at 0x1a161d8630>"
      ]
     },
     "metadata": {},
     "output_type": "display_data"
    }
   ],
   "source": [
    "df_4.groupby(['foreign_born_high_low' , 'median_household_income_high_low'])['permit'].mean().plot(kind='bar', figsize=(13,6))\n",
    "labels = ['High Foreign & High Income', 'High Foreign & High Income', 'Low Foreign & High Income', 'Low Foreign & Low Income']\n",
    "plt.ylabel('Permits Issued')\n",
    "plt.xlabel('Median Household Income & Percent of Foreign Born')\n",
    "plt.xticks(np.arange(4), labels, rotation='horizontal');"
   ]
  },
  {
   "cell_type": "markdown",
   "metadata": {},
   "source": [
    "### Research Question 3 : Is there a higher amount of handguns and long guns in states with higher median household income?"
   ]
  },
  {
   "cell_type": "code",
   "execution_count": 76,
   "metadata": {},
   "outputs": [
    {
     "data": {
      "text/html": [
       "<div>\n",
       "<style>\n",
       "    .dataframe thead tr:only-child th {\n",
       "        text-align: right;\n",
       "    }\n",
       "\n",
       "    .dataframe thead th {\n",
       "        text-align: left;\n",
       "    }\n",
       "\n",
       "    .dataframe tbody tr th {\n",
       "        vertical-align: top;\n",
       "    }\n",
       "</style>\n",
       "<table border=\"1\" class=\"dataframe\">\n",
       "  <thead>\n",
       "    <tr style=\"text-align: right;\">\n",
       "      <th></th>\n",
       "      <th>handgun</th>\n",
       "      <th>long_gun</th>\n",
       "    </tr>\n",
       "    <tr>\n",
       "      <th>median_household_income_high_low</th>\n",
       "      <th></th>\n",
       "      <th></th>\n",
       "    </tr>\n",
       "  </thead>\n",
       "  <tbody>\n",
       "    <tr>\n",
       "      <th>high</th>\n",
       "      <td>331510.500000</td>\n",
       "      <td>244033.083333</td>\n",
       "    </tr>\n",
       "    <tr>\n",
       "      <th>low</th>\n",
       "      <td>341033.583333</td>\n",
       "      <td>254743.083333</td>\n",
       "    </tr>\n",
       "  </tbody>\n",
       "</table>\n",
       "</div>"
      ],
      "text/plain": [
       "                                        handgun       long_gun\n",
       "median_household_income_high_low                              \n",
       "high                              331510.500000  244033.083333\n",
       "low                               341033.583333  254743.083333"
      ]
     },
     "execution_count": 76,
     "metadata": {},
     "output_type": "execute_result"
    }
   ],
   "source": [
    "df_4.groupby('median_household_income_high_low').agg({'handgun':'sum', 'long_gun':'sum'})"
   ]
  },
  {
   "cell_type": "code",
   "execution_count": 77,
   "metadata": {
    "scrolled": true
   },
   "outputs": [
    {
     "data": {
      "image/png": "[encoded data removed]",
      "text/plain": [
       "<matplotlib.figure.Figure at 0x1a16f83860>"
      ]
     },
     "metadata": {},
     "output_type": "display_data"
    }
   ],
   "source": [
    "df_4.groupby('median_household_income_high_low').agg({'handgun':'sum', 'long_gun':'sum'}).plot(kind='bar', figsize=(13,8))\n",
    "labels = ['High Income', 'Low Income']\n",
    "plt.ylabel('Amount of Handguns & Long guns')\n",
    "plt.xlabel('Median Household Income')\n",
    "plt.xticks(np.arange(2), labels, rotation='horizontal');"
   ]
  },
  {
   "cell_type": "markdown",
   "metadata": {},
   "source": [
    "<a id='conclusions'></a>\n",
    "## Conclusions"
   ]
  },
  {
   "cell_type": "markdown",
   "metadata": {
    "collapsed": true
   },
   "source": [
    ">**The answer to the questions posted in the beginning of our data exploration project, can be answered by looking at the information in the Exploratory Data Analysis section.**\n",
    "\n",
    ">- The first question appears to be that it is not true, in higher average household income states, there is a smaller amount of permits issued, conversely, in lower average household income states, there seems to be a higher amount of permits issued.\n",
    ">- The second question appears to be that it is not true, states with higher percent of foreign born people, appear to have a smaller amount of permits issued, conversely, in states with lower percent of foreign born people, there seems to be a higher amount of permits issued.\n",
    ">- The final question can be answered by looking at the final graph. By far it can be concluded that in states with lower average household income and lower percent of foreign born people, is where the highest amount of permits were issued.\n",
    ">- Lastly there seems to be almost no difference between the number of handguns and long guns found in states with higher or lower median household incomes. There is a slightly higher concentration of guns in states with lower median household income than those found in higher median household income.\n",
    ">- Something that must be noted, is that this are just observations, and do not represent an accurate correlation or prediction of any kind, due to the fact that there was no use of statistical regressions made on our sample data."
   ]
  }
 ],
 "metadata": {
  "kernelspec": {
   "display_name": "Python [default]",
   "language": "python",
   "name": "python3"
  },
  "language_info": {
   "codemirror_mode": {
    "name": "ipython",
    "version": 3
   },
   "file_extension": ".py",
   "mimetype": "text/x-python",
   "name": "python",
   "nbconvert_exporter": "python",
   "pygments_lexer": "ipython3",
   "version": "3.6.4"
  }
 },
 "nbformat": 4,
 "nbformat_minor": 2
}
